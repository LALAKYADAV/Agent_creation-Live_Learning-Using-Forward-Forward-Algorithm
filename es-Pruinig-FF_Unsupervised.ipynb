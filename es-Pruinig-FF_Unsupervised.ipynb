{
  "cells": [
    {
      "cell_type": "markdown",
      "id": "ca62156d",
      "metadata": {
        "id": "ca62156d"
      },
      "source": [
        "# Libraries"
      ]
    },
    {
      "cell_type": "code",
      "execution_count": 1,
      "id": "16d42fc0",
      "metadata": {
        "id": "16d42fc0"
      },
      "outputs": [],
      "source": [
        "import torch\n",
        "import torch.nn as nn\n",
        "from torchvision.datasets import MNIST\n",
        "from torchvision.transforms import Compose, ToTensor\n",
        "from torch.optim import Adam, SGD\n",
        "from torch.utils.data import DataLoader, Dataset\n",
        "import numpy as np\n",
        "import pandas as pd\n",
        "import matplotlib.pyplot as plt\n",
        "from scipy.signal import convolve2d\n",
        "from tqdm.notebook import tqdm_notebook\n",
        "import random\n",
        "from sklearn.preprocessing import OneHotEncoder\n",
        "                                                          \n",
        "from tqdm import tqdm          \n",
        "import matplotlib.pyplot as plt"
      ]
    },
    {
      "cell_type": "code",
      "execution_count": 7,
      "id": "90aed679",
      "metadata": {},
      "outputs": [],
      "source": [
        "device = 'cuda' if torch.cuda.is_available() else 'cpu'"
      ]
    },
    {
      "cell_type": "code",
      "execution_count": 8,
      "id": "5abce54f",
      "metadata": {},
      "outputs": [
        {
          "data": {
            "text/plain": [
              "'cuda'"
            ]
          },
          "execution_count": 8,
          "metadata": {},
          "output_type": "execute_result"
        }
      ],
      "source": [
        "device"
      ]
    },
    {
      "cell_type": "markdown",
      "id": "9e05eb57",
      "metadata": {
        "id": "9e05eb57"
      },
      "source": [
        "# Hyperparameters"
      ]
    },
    {
      "cell_type": "markdown",
      "id": "cf8b3428",
      "metadata": {
        "id": "cf8b3428"
      },
      "source": []
    },
    {
      "cell_type": "code",
      "execution_count": 15,
      "id": "51638082",
      "metadata": {
        "id": "51638082"
      },
      "outputs": [],
      "source": [
        "batchsize = 64\n",
        "learning_rate = 0.001\n",
        "learning_rate_lc = 0.03\n",
        "epochs = 100\n",
        "threshold = 2.0\n",
        "image_shape = (1,28,28)\n",
        "image_1d_shape = np.prod(image_shape)\n",
        "layers = [image_1d_shape,2000,2000,2000,2000]\n",
        "softmax_layers = [0,1,2,3]"
      ]
    },
    {
      "cell_type": "markdown",
      "id": "224a16dd",
      "metadata": {
        "id": "224a16dd"
      },
      "source": [
        "# Preparing the data"
      ]
    },
    {
      "cell_type": "code",
      "execution_count": 16,
      "id": "f560bc1a",
      "metadata": {
        "id": "f560bc1a"
      },
      "outputs": [],
      "source": [
        "train_dataset = MNIST(\"./data/\",download=True, train=True, transform=ToTensor())\n",
        "test_dataset = MNIST(\"./data/\",download=True, train=False, transform=ToTensor())\n",
        "\n",
        "train_loader = DataLoader(train_dataset, batch_size=batchsize, shuffle=True, )\n",
        "test_loader = DataLoader(test_dataset, batch_size=batchsize, shuffle=True)"
      ]
    },
    {
      "cell_type": "code",
      "execution_count": null,
      "id": "54bf3f3a",
      "metadata": {},
      "outputs": [],
      "source": []
    },
    {
      "cell_type": "code",
      "execution_count": 17,
      "id": "479a061c",
      "metadata": {
        "id": "479a061c"
      },
      "outputs": [],
      "source": [
        "def label_to_oh(y):\n",
        "    y = y.numpy().reshape(-1,1)\n",
        "    ohe = OneHotEncoder().fit(np.arange(10).reshape((10,1)))\n",
        "    ohe_y = ohe.transform(y).toarray()\n",
        "    return torch.Tensor(ohe_y)"
      ]
    },
    {
      "cell_type": "code",
      "execution_count": 18,
      "id": "c21fd5d3",
      "metadata": {
        "id": "c21fd5d3"
      },
      "outputs": [],
      "source": [
        "def show_image(x):\n",
        "    x = x.squeeze()\n",
        "    plt.imshow(x, cmap=\"gray\")\n",
        "    plt.show()"
      ]
    },
    {
      "cell_type": "markdown",
      "id": "0a3c40d6",
      "metadata": {
        "id": "0a3c40d6"
      },
      "source": [
        "### Generating masks"
      ]
    },
    {
      "cell_type": "code",
      "execution_count": 19,
      "id": "902971da",
      "metadata": {
        "colab": {
          "base_uri": "https://localhost:8080/",
          "height": 430
        },
        "id": "902971da",
        "outputId": "8b1f0a53-5144-485c-e7a6-49c80000b3cf"
      },
      "outputs": [
        {
          "data": {
            "image/png": "[encoded data removed]",
            "text/plain": [
              "<Figure size 640x480 with 1 Axes>"
            ]
          },
          "metadata": {},
          "output_type": "display_data"
        }
      ],
      "source": [
        "\n",
        "\n",
        "# The method for generating masks for negative data mentioned by Geoffrey Hinton in the article\n",
        "def mask_gen():\n",
        "    random_iter = np.random.randint(5,10)\n",
        "    random_image = np.random.randint(2, size=image_shape).squeeze().astype(np.float32)\n",
        "    blur_filter = np.array([[1, 2, 1], [2, 4, 2], [1, 2, 1]]) / 16\n",
        "    for i in range(random_iter):\n",
        "        random_image = convolve2d(random_image, blur_filter, mode='same', boundary='symm')\n",
        "    mask = (random_image > 0.5).astype(np.float32)\n",
        "    return mask\n",
        "\n",
        "# The method for creating masks for negative data that I tried for testing purposes.\n",
        "def mask_gen1():\n",
        "    n = image_1d_shape\n",
        "    arr1 = np.random.normal(loc=0, scale=0.01, size=int(5*n/8))\n",
        "    arr1 = arr1+ abs(0-arr1.min())\n",
        "    arr2 = np.random.normal(loc=1, scale=0.01, size=int(3*n/8))\n",
        "    arr2 = arr2 + abs(1-arr2.max())\n",
        "    arr = np.concatenate([arr1,arr2])\n",
        "    np.random.shuffle(arr)\n",
        "    mask = arr.reshape(image_shape).astype(np.float32)\n",
        "    return mask\n",
        "\n",
        "show_image(mask_gen())"
      ]
    },
    {
      "cell_type": "markdown",
      "id": "28b116a5",
      "metadata": {
        "id": "28b116a5"
      },
      "source": [
        "### Obtaining the hybrid image by applying the mask"
      ]
    },
    {
      "cell_type": "code",
      "execution_count": 20,
      "id": "f4778caa",
      "metadata": {
        "id": "f4778caa"
      },
      "outputs": [],
      "source": [
        "def negative_data_gen(batch):\n",
        "    batch = batch[0]\n",
        "    indexes = torch.randperm(batch.shape[0])\n",
        "    x1 = batch\n",
        "    x2 = batch[indexes]\n",
        "    mask = mask_gen()\n",
        "\n",
        "    # print( \"mask size = \", mask.size)\n",
        "    # print( \"x1 size = \", x1.size)\n",
        "    # print( \"x2 size = \", x2.size)\n",
        "\n",
        "    merged_x1 = x1*mask\n",
        "    merged_x2 = x2*(1-mask)\n",
        "    hybrid_image = merged_x1+merged_x2\n",
        "    return hybrid_image"
      ]
    },
    {
      "cell_type": "markdown",
      "id": "34fbcea5",
      "metadata": {
        "id": "34fbcea5"
      },
      "source": [
        "# Defining the FF Layer"
      ]
    },
    {
      "cell_type": "code",
      "execution_count": 21,
      "id": "b0458702",
      "metadata": {
        "id": "b0458702"
      },
      "outputs": [],
      "source": [
        "class FFLayer(nn.Linear):\n",
        "    def __init__(self, in_features, out_features, bias=True, device=None, dtype=None, dropout_rate=0.5):\n",
        "        super().__init__(in_features, out_features, bias, device, dtype)\n",
        "\n",
        "        self.relu = nn.ReLU()\n",
        "        self.dropout = nn.Dropout(p=dropout_rate)\n",
        "        self.optimizer = Adam(self.parameters(), lr=learning_rate)\n",
        "        self.threshold = threshold\n",
        "        self.epoch_num = epochs\n",
        "\n",
        "    # def forward(self, x):\n",
        "\n",
        "    #     # print(f\"Shape of x::::::::::::::: {x.shape}\")\n",
        "\n",
        "\n",
        "    #     if x.dim() == 1:  # If the tensor is 1D\n",
        "    #         # print(\"print working\")\n",
        "    #         x_direction = x / (x.norm(2) + 1e-4)\n",
        "    #     else:  # For tensors with more dimensions\n",
        "    #         x_direction = x / (x.norm(2, dim=-1, keepdim=True) + 1e-4)\n",
        "\n",
        "\n",
        "    #     # print(f\"Shape of x_direction : {x_direction.shape}\")\n",
        "\n",
        "    #     x = super().forward(x_direction)\n",
        "    #     x = self.relu(x)\n",
        "    #     x = self.dropout(x)\n",
        "    #     return x\n",
        "    \n",
        "    def forward(self, x):\n",
        "        x_direction = x / (x.norm(2, 1, keepdim=True) + 1e-4)\n",
        "        return self.relu(torch.mm(x_direction, self.weight.T) + self.bias.unsqueeze(0))\n",
        "\n",
        "\n",
        "\n",
        "\n"
      ]
    },
    {
      "cell_type": "markdown",
      "id": "66042823",
      "metadata": {
        "id": "66042823"
      },
      "source": [
        "\n",
        "# Defining the FF Network"
      ]
    },
    {
      "cell_type": "code",
      "execution_count": 22,
      "id": "4c565c7e",
      "metadata": {
        "id": "4c565c7e"
      },
      "outputs": [],
      "source": [
        "class FFNet(nn.Module):\n",
        "    def __init__(self, layers,  device, input_dim):\n",
        "        super().__init__()\n",
        "        self.layers = nn.ModuleList()\n",
        "\n",
        "        # for i in range(len(layers)-1):\n",
        "        #     if i==0:\n",
        "        #         self.layers.append(FFLayer( input_dim, layers[i+1]).to(device))\n",
        "        #     else:\n",
        "        #         self.layers.append(FFLayer(layers[i], layers[i+1]).to(device))\n",
        "        for i in range(len(layers)-1):\n",
        "            self.layers.append(FFLayer(layers[i],layers[i+1]).cuda())\n",
        "        \n",
        "\n",
        "    def predict(self,x, softmax_layers, device):\n",
        "        layers_output = torch.Tensor([]).to(device)\n",
        "        h = x\n",
        "\n",
        "        for i, layer in enumerate(self.layers):\n",
        "            h = layer(h)\n",
        "            if i in softmax_layers:\n",
        "                layers_output = torch.cat([layers_output,h],1)\n",
        "\n",
        "        return layers_output\n",
        "\n"
      ]
    },
    {
      "cell_type": "code",
      "execution_count": 23,
      "id": "6e4c781e",
      "metadata": {
        "id": "6e4c781e"
      },
      "outputs": [],
      "source": [
        "def count_nonzero_parameterss(model):\n",
        "      nonzero_params = 0\n",
        "      for param in model.parameters():\n",
        "          nonzero_params += torch.count_nonzero(param).item()\n",
        "      return nonzero_params\n",
        "\n",
        "def count_nonzero_parameters(model):\n",
        "\n",
        "    for name, param in model.named_parameters():\n",
        "        # Count non-zero elements in the parameter tensor\n",
        "        nonzero_count = torch.count_nonzero(param).item()\n",
        "        print(f'{name}: {nonzero_count}')"
      ]
    },
    {
      "cell_type": "markdown",
      "id": "04aa1c29",
      "metadata": {
        "id": "04aa1c29"
      },
      "source": [
        "# Training the FF Network\n",
        "### Training the network in order to learn the representation"
      ]
    },
    {
      "cell_type": "code",
      "execution_count": 24,
      "id": "2a1cdc9d",
      "metadata": {},
      "outputs": [],
      "source": [
        "device = \"cuda\" if torch.cuda.is_available() else \"cpu\""
      ]
    },
    {
      "cell_type": "code",
      "execution_count": 25,
      "id": "3af415fe",
      "metadata": {},
      "outputs": [
        {
          "data": {
            "text/plain": [
              "'cuda'"
            ]
          },
          "execution_count": 25,
          "metadata": {},
          "output_type": "execute_result"
        }
      ],
      "source": [
        "device"
      ]
    },
    {
      "cell_type": "code",
      "execution_count": 26,
      "id": "Hqs59WwzIiJW",
      "metadata": {
        "id": "Hqs59WwzIiJW"
      },
      "outputs": [],
      "source": [
        "model = FFNet(layers, device, input_dim =784 )"
      ]
    },
    {
      "cell_type": "code",
      "execution_count": 27,
      "id": "342be9e7",
      "metadata": {
        "id": "342be9e7"
      },
      "outputs": [],
      "source": [
        "import copy\n",
        "\n",
        "class EarlyStopping:\n",
        "    def __init__(self, patience=5, min_delta=0, restore_best_weights=True):\n",
        "        self.patience = patience\n",
        "        self.min_delta = min_delta\n",
        "        self.restore_best_weights = restore_best_weights\n",
        "        self.best_model = None\n",
        "        self.best_loss = None\n",
        "        self.counter = 0\n",
        "        self.status = \"\"\n",
        "\n",
        "    def __call__(self, model, val_loss):\n",
        "        if self.best_loss is None:\n",
        "            self.best_loss = val_loss\n",
        "            self.best_model = copy.deepcopy(model.state_dict())\n",
        "        elif self.best_loss - val_loss >= self.min_delta:\n",
        "            self.best_model = copy.deepcopy(model.state_dict())\n",
        "            self.best_loss = val_loss\n",
        "            self.counter = 0\n",
        "            self.status = f\"Improvement found, counter reset to {self.counter}\"\n",
        "        else:\n",
        "            print( \"stopping else\")\n",
        "            self.counter += 1\n",
        "            self.status = f\"No improvement in the last {self.counter} epochs\"\n",
        "            if self.counter >= self.patience:\n",
        "                self.status = f\"Early stopping triggered after {self.counter} epochs.\"\n",
        "                if self.restore_best_weights:\n",
        "                    model.load_state_dict(self.best_model)\n",
        "                return True\n",
        "        return False\n",
        "    "
      ]
    },
    {
      "cell_type": "code",
      "execution_count": 28,
      "id": "6bc9f143",
      "metadata": {},
      "outputs": [],
      "source": [
        "import torch.nn.utils.prune as prune"
      ]
    },
    {
      "cell_type": "code",
      "execution_count": 29,
      "id": "8KoVrIAnbXSk",
      "metadata": {
        "id": "8KoVrIAnbXSk"
      },
      "outputs": [],
      "source": [
        "# def train(model_train_loop, model_test_loop, model, epoch_num, device, es, image_1d_shape, threshold=2):\n",
        "#     validation_losses = []\n",
        "#     training_losses = []\n",
        "\n",
        "#     for epoch in range(epoch_num):\n",
        "        \n",
        "        \n",
        "#        # Reset data iterators at the start of each epoch\n",
        "#         model_train_loop = iter(train_loader)\n",
        "#         model_test_loop = iter(test_loader)\n",
        "        \n",
        "#         model.train()\n",
        "#         steps = list(enumerate(model_train_loop))\n",
        "#         pbar = tqdm(steps, desc=f\"Epoch {epoch+1}/{epoch_num}\", ncols=100, leave=False)  # Adjust ncols to fit your environment\n",
        "\n",
        "#         epoch_loss = 0.0\n",
        "\n",
        "#         for batch_idx, batch in pbar:\n",
        "#             x_pos = batch[0]\n",
        "#             x_neg = negative_data_gen(batch)\n",
        "#             x_pos, x_neg = x_pos.view(-1, image_1d_shape).to(device), x_neg.view(-1, image_1d_shape).to(device)\n",
        "\n",
        "#             out_pos, out_neg = x_pos, x_neg\n",
        "\n",
        "#             for i, layer in enumerate(model.layers):\n",
        "#                 oout_pos = layer.forward(out_pos).pow(2).mean(1)\n",
        "#                 oout_neg = layer.forward(out_neg).pow(2).mean(1)\n",
        "\n",
        "#                 loss = torch.log(1 + torch.exp(torch.cat([threshold - oout_pos, oout_neg - threshold]))).mean()\n",
        "\n",
        "#                 layer.optimizer.zero_grad()\n",
        "#                 loss.backward()\n",
        "#                 layer.optimizer.step()\n",
        "\n",
        "#                 epoch_loss += loss.item()\n",
        "\n",
        "#                 # Update progress bar description with epoch and loss information\n",
        "#                 pbar.set_description(f\"Epoch: {epoch+1}, Layer: {i+1}/{len(model.layers)}, Loss: {loss.item():.4f}\")\n",
        "\n",
        "#                 out_pos, out_neg = layer.forward(out_pos).detach(), layer.forward(out_neg).detach()\n",
        "\n",
        "#         # Average training loss for the epoch\n",
        "#         avg_train_loss = epoch_loss / len(model_train_loop)\n",
        "#         training_losses.append(avg_train_loss)\n",
        "#         print(f\"Epoch {epoch+1} Training Loss: {avg_train_loss:.4f}\")\n",
        "\n",
        "#         # Evaluation and Early Stopping\n",
        "#         model.eval()\n",
        "#         with torch.no_grad():\n",
        "\n",
        "#             # validation loop statrt her\n",
        "#             vloss_pos = 0\n",
        "\n",
        "#             # Validation Loop with Progress Bar\n",
        "#             steps_val = list(enumerate(model_test_loop))\n",
        "#             pbar_val = tqdm(steps_val, desc=f\"Epoch {epoch+1}/{epoch_num} (Validation)\", ncols=100)\n",
        "\n",
        "#             for batch_idx, batch in pbar_val:\n",
        "#                 x_pos = batch[0]\n",
        "#                 x_neg = negative_data_gen(batch)\n",
        "#                 x_pos, x_neg = x_pos.view(-1, image_1d_shape).to(device), x_neg.view(-1, image_1d_shape).to(device)\n",
        "\n",
        "#                 out_pos, out_neg = x_pos, x_neg\n",
        "\n",
        "#                 for i, layer in enumerate(model.layers):\n",
        "#                     oout_pos = layer.forward(out_pos).pow(2).mean(1)\n",
        "#                     oout_neg = layer.forward(out_neg).pow(2).mean(1)\n",
        "\n",
        "#                     loss = torch.log(1 + torch.exp(torch.cat([threshold - oout_pos, oout_neg - threshold]))).mean()\n",
        "\n",
        "#                     vloss_pos += loss.item()\n",
        "\n",
        "#                     out_pos, out_neg = layer.forward(out_pos).detach(), layer.forward(out_neg).detach()\n",
        "\n",
        "#             avg_val_loss = vloss_pos / len(model_test_loop)\n",
        "#             validation_losses.append(avg_val_loss)\n",
        "#             # if es(model, vloss_pos):\n",
        "#             #     break  # Stop training if early stopping condition is met\n",
        "\n",
        "#             # Update progress bar description with validation loss\n",
        "#             pbar_val.set_description(f\"Epoch: {epoch+1}, Validation Loss: {vloss_pos:.4f}, EStop Status: [{es.status}]\")\n",
        "\n",
        "#     return training_losses, validation_losses\n",
        "\n",
        "\n"
      ]
    },
    {
      "cell_type": "code",
      "execution_count": 30,
      "id": "bsMXbBIUMxs0",
      "metadata": {
        "id": "bsMXbBIUMxs0"
      },
      "outputs": [],
      "source": [
        "vloss_pos = 24.432"
      ]
    },
    {
      "cell_type": "code",
      "execution_count": 31,
      "id": "dxZQXvs-MsoP",
      "metadata": {
        "colab": {
          "base_uri": "https://localhost:8080/"
        },
        "id": "dxZQXvs-MsoP",
        "outputId": "0139287e-bf0a-48b6-eef7-df13b62bb12c"
      },
      "outputs": [
        {
          "name": "stdout",
          "output_type": "stream",
          "text": [
            ", Validation Loss: 24.43\n"
          ]
        }
      ],
      "source": [
        "print(f\", Validation Loss: {vloss_pos:.4}\")\n"
      ]
    },
    {
      "cell_type": "code",
      "execution_count": 32,
      "id": "XhwX0y1wIlUn",
      "metadata": {
        "colab": {
          "base_uri": "https://localhost:8080/"
        },
        "id": "XhwX0y1wIlUn",
        "outputId": "84e4cced-db9e-40a7-996c-7867b195cc2b"
      },
      "outputs": [
        {
          "name": "stdout",
          "output_type": "stream",
          "text": [
            "OrderedDict([('layers.0.weight', tensor([[ 1.2391e-02,  3.3264e-02,  3.4055e-02,  ..., -1.6146e-02,\n",
            "         -2.0230e-02,  2.5308e-02],\n",
            "        [ 3.4335e-02,  1.9257e-03,  3.2948e-02,  ...,  4.6050e-04,\n",
            "          1.6258e-02, -2.8880e-02],\n",
            "        [-1.0657e-02,  1.5444e-02,  2.7789e-02,  ...,  2.9921e-02,\n",
            "          2.3921e-02,  2.5706e-02],\n",
            "        ...,\n",
            "        [ 3.3493e-02,  2.3086e-02,  1.1204e-03,  ...,  6.9976e-05,\n",
            "         -2.5103e-02,  5.4729e-03],\n",
            "        [-2.2741e-02,  1.0522e-02, -2.4170e-02,  ..., -1.8754e-02,\n",
            "          9.6068e-03,  2.5773e-02],\n",
            "        [ 2.8686e-03, -2.5031e-02,  2.0268e-02,  ..., -2.4985e-03,\n",
            "          2.5898e-02,  3.3041e-02]], device='cuda:0')), ('layers.0.bias', tensor([-0.0268, -0.0104,  0.0354,  ..., -0.0268, -0.0351, -0.0073],\n",
            "       device='cuda:0')), ('layers.1.weight', tensor([[-0.0186,  0.0047,  0.0045,  ..., -0.0163,  0.0138, -0.0123],\n",
            "        [-0.0214, -0.0008, -0.0141,  ...,  0.0112,  0.0103,  0.0215],\n",
            "        [ 0.0043, -0.0048,  0.0130,  ...,  0.0182,  0.0104, -0.0045],\n",
            "        ...,\n",
            "        [-0.0052,  0.0013, -0.0122,  ...,  0.0128,  0.0053,  0.0137],\n",
            "        [ 0.0032, -0.0016, -0.0160,  ...,  0.0124, -0.0193, -0.0099],\n",
            "        [-0.0132,  0.0008, -0.0205,  ...,  0.0089,  0.0099,  0.0014]],\n",
            "       device='cuda:0')), ('layers.1.bias', tensor([ 0.0027,  0.0180, -0.0195,  ...,  0.0125,  0.0149, -0.0037],\n",
            "       device='cuda:0')), ('layers.2.weight', tensor([[-1.2765e-02, -1.8120e-02, -1.0373e-02,  ...,  1.2357e-03,\n",
            "         -1.8514e-02,  1.2946e-02],\n",
            "        [-3.1132e-03, -9.2150e-06,  1.6915e-02,  ..., -1.8701e-02,\n",
            "          2.0640e-02,  1.9277e-02],\n",
            "        [-1.9216e-02, -1.4158e-03, -8.9583e-03,  ..., -1.6086e-02,\n",
            "          6.7868e-03, -1.1860e-02],\n",
            "        ...,\n",
            "        [-1.2515e-02, -7.3027e-03, -2.4337e-03,  ...,  1.6994e-02,\n",
            "          6.1111e-03, -8.4960e-03],\n",
            "        [ 3.3187e-03, -8.3549e-03,  2.0543e-02,  ..., -6.6944e-03,\n",
            "          1.9435e-02,  1.0685e-02],\n",
            "        [ 6.3903e-03, -4.9729e-04,  1.2047e-02,  ..., -4.9165e-03,\n",
            "         -6.3805e-03,  9.3000e-03]], device='cuda:0')), ('layers.2.bias', tensor([-0.0114,  0.0065,  0.0014,  ..., -0.0044, -0.0032,  0.0119],\n",
            "       device='cuda:0')), ('layers.3.weight', tensor([[ 0.0035,  0.0092,  0.0162,  ...,  0.0221, -0.0205,  0.0075],\n",
            "        [ 0.0162,  0.0118,  0.0068,  ..., -0.0024, -0.0087, -0.0222],\n",
            "        [ 0.0058, -0.0077,  0.0156,  ..., -0.0149,  0.0118, -0.0112],\n",
            "        ...,\n",
            "        [ 0.0163, -0.0117, -0.0212,  ..., -0.0147,  0.0123, -0.0117],\n",
            "        [-0.0160,  0.0133, -0.0175,  ..., -0.0044,  0.0216,  0.0134],\n",
            "        [-0.0136, -0.0080,  0.0060,  ..., -0.0084, -0.0032, -0.0109]],\n",
            "       device='cuda:0')), ('layers.3.bias', tensor([ 0.0099,  0.0167, -0.0038,  ..., -0.0149,  0.0099, -0.0037],\n",
            "       device='cuda:0'))])\n"
          ]
        }
      ],
      "source": [
        "print(model.state_dict())"
      ]
    },
    {
      "cell_type": "code",
      "execution_count": 33,
      "id": "9f00dfad",
      "metadata": {
        "colab": {
          "base_uri": "https://localhost:8080/"
        },
        "id": "9f00dfad",
        "outputId": "ad2ed422-b48a-439d-964f-5db7871d3acd"
      },
      "outputs": [
        {
          "name": "stdout",
          "output_type": "stream",
          "text": [
            "layers.0.weight: 1568000\n",
            "layers.0.bias: 2000\n",
            "layers.1.weight: 3999999\n",
            "layers.1.bias: 2000\n",
            "layers.2.weight: 3999999\n",
            "layers.2.bias: 2000\n",
            "layers.3.weight: 4000000\n",
            "layers.3.bias: 2000\n"
          ]
        }
      ],
      "source": [
        "count_nonzero_parameters(model)"
      ]
    },
    {
      "cell_type": "code",
      "execution_count": 34,
      "id": "f46a0249",
      "metadata": {
        "colab": {
          "base_uri": "https://localhost:8080/"
        },
        "id": "f46a0249",
        "outputId": "9ea7814e-20ae-4e95-9414-213bd6d0e15c"
      },
      "outputs": [
        {
          "data": {
            "text/plain": [
              "13575998"
            ]
          },
          "execution_count": 34,
          "metadata": {},
          "output_type": "execute_result"
        }
      ],
      "source": [
        "count_nonzero_parameterss(model)"
      ]
    },
    {
      "cell_type": "code",
      "execution_count": 38,
      "id": "ff68c434",
      "metadata": {
        "id": "ff68c434"
      },
      "outputs": [
        {
          "name": "stdout",
          "output_type": "stream",
          "text": [
            "OrderedDict([('layers.0.weight', tensor([[ 1.2391e-02,  3.3264e-02,  3.4055e-02,  ..., -1.6146e-02,\n",
            "         -2.0230e-02,  2.5308e-02],\n",
            "        [ 3.4335e-02,  1.9257e-03,  3.2948e-02,  ...,  4.6050e-04,\n",
            "          1.6258e-02, -2.8880e-02],\n",
            "        [-1.0657e-02,  1.5444e-02,  2.7789e-02,  ...,  2.9921e-02,\n",
            "          2.3921e-02,  2.5706e-02],\n",
            "        ...,\n",
            "        [ 3.3493e-02,  2.3086e-02,  1.1204e-03,  ...,  6.9976e-05,\n",
            "         -2.5103e-02,  5.4729e-03],\n",
            "        [-2.2741e-02,  1.0522e-02, -2.4170e-02,  ..., -1.8754e-02,\n",
            "          9.6068e-03,  2.5773e-02],\n",
            "        [ 2.8686e-03, -2.5031e-02,  2.0268e-02,  ..., -2.4985e-03,\n",
            "          2.5898e-02,  3.3041e-02]], device='cuda:0')), ('layers.0.bias', tensor([-0.0268, -0.0104,  0.0354,  ..., -0.0268, -0.0351, -0.0073],\n",
            "       device='cuda:0')), ('layers.1.weight', tensor([[-0.0186,  0.0047,  0.0045,  ..., -0.0163,  0.0138, -0.0123],\n",
            "        [-0.0214, -0.0008, -0.0141,  ...,  0.0112,  0.0103,  0.0215],\n",
            "        [ 0.0043, -0.0048,  0.0130,  ...,  0.0182,  0.0104, -0.0045],\n",
            "        ...,\n",
            "        [-0.0052,  0.0013, -0.0122,  ...,  0.0128,  0.0053,  0.0137],\n",
            "        [ 0.0032, -0.0016, -0.0160,  ...,  0.0124, -0.0193, -0.0099],\n",
            "        [-0.0132,  0.0008, -0.0205,  ...,  0.0089,  0.0099,  0.0014]],\n",
            "       device='cuda:0')), ('layers.1.bias', tensor([ 0.0027,  0.0180, -0.0195,  ...,  0.0125,  0.0149, -0.0037],\n",
            "       device='cuda:0')), ('layers.2.weight', tensor([[-1.2765e-02, -1.8120e-02, -1.0373e-02,  ...,  1.2357e-03,\n",
            "         -1.8514e-02,  1.2946e-02],\n",
            "        [-3.1132e-03, -9.2150e-06,  1.6915e-02,  ..., -1.8701e-02,\n",
            "          2.0640e-02,  1.9277e-02],\n",
            "        [-1.9216e-02, -1.4158e-03, -8.9583e-03,  ..., -1.6086e-02,\n",
            "          6.7868e-03, -1.1860e-02],\n",
            "        ...,\n",
            "        [-1.2515e-02, -7.3027e-03, -2.4337e-03,  ...,  1.6994e-02,\n",
            "          6.1111e-03, -8.4960e-03],\n",
            "        [ 3.3187e-03, -8.3549e-03,  2.0543e-02,  ..., -6.6944e-03,\n",
            "          1.9435e-02,  1.0685e-02],\n",
            "        [ 6.3903e-03, -4.9729e-04,  1.2047e-02,  ..., -4.9165e-03,\n",
            "         -6.3805e-03,  9.3000e-03]], device='cuda:0')), ('layers.2.bias', tensor([-0.0114,  0.0065,  0.0014,  ..., -0.0044, -0.0032,  0.0119],\n",
            "       device='cuda:0')), ('layers.3.weight', tensor([[ 0.0035,  0.0092,  0.0162,  ...,  0.0221, -0.0205,  0.0075],\n",
            "        [ 0.0162,  0.0118,  0.0068,  ..., -0.0024, -0.0087, -0.0222],\n",
            "        [ 0.0058, -0.0077,  0.0156,  ..., -0.0149,  0.0118, -0.0112],\n",
            "        ...,\n",
            "        [ 0.0163, -0.0117, -0.0212,  ..., -0.0147,  0.0123, -0.0117],\n",
            "        [-0.0160,  0.0133, -0.0175,  ..., -0.0044,  0.0216,  0.0134],\n",
            "        [-0.0136, -0.0080,  0.0060,  ..., -0.0084, -0.0032, -0.0109]],\n",
            "       device='cuda:0')), ('layers.3.bias', tensor([ 0.0099,  0.0167, -0.0038,  ..., -0.0149,  0.0099, -0.0037],\n",
            "       device='cuda:0'))])\n"
          ]
        }
      ],
      "source": [
        "print(model.state_dict())"
      ]
    },
    {
      "cell_type": "code",
      "execution_count": 37,
      "id": "d4724ab8",
      "metadata": {
        "id": "d4724ab8"
      },
      "outputs": [],
      "source": [
        "import torch.nn.utils.prune as prune"
      ]
    },
    {
      "cell_type": "code",
      "execution_count": 20,
      "id": "96727ebc",
      "metadata": {},
      "outputs": [],
      "source": [
        "# def train(model_train_loop, model_test_loop, model, epoch_num, device, es, image_1d_shape, threshold=2):\n",
        "#     validation_losses = []\n",
        "#     training_losses = []\n",
        "\n",
        "#     for epoch in range(epoch_num):\n",
        "        \n",
        "#         # Reset data iterators at the start of each epoch\n",
        "#         model_train_loop = iter(train_loader)\n",
        "#         model_test_loop = iter(test_loader)\n",
        "        \n",
        "#         model.train()\n",
        "#         pbar = tqdm(enumerate(model_train_loop), desc=f\"Epoch {epoch+1}/{epoch_num}\", ncols=100, leave=False)  # Adjust ncols to fit your environment\n",
        "\n",
        "#         epoch_loss = 0.0\n",
        "\n",
        "#         for batch_idx, batch in pbar:\n",
        "#             x_pos = batch[0]\n",
        "#             x_neg = negative_data_gen(batch)\n",
        "#             x_pos, x_neg = x_pos.view(-1, image_1d_shape).to(device), x_neg.view(-1, image_1d_shape).to(device)\n",
        "\n",
        "#             out_pos, out_neg = x_pos, x_neg\n",
        "\n",
        "#             for i, layer in enumerate(model.layers):\n",
        "#                 oout_pos = layer.forward(out_pos).pow(2).mean(1)\n",
        "#                 oout_neg = layer.forward(out_neg).pow(2).mean(1)\n",
        "\n",
        "#                 loss = torch.log(1 + torch.exp(torch.cat([threshold - oout_pos, oout_neg - threshold]))).mean()\n",
        "\n",
        "#                 layer.optimizer.zero_grad()\n",
        "#                 loss.backward()  # No need to retain graph\n",
        "#                 layer.optimizer.step()\n",
        "\n",
        "#                 epoch_loss += loss.item()\n",
        "\n",
        "#                 # Update progress bar description with epoch and loss information\n",
        "#                 pbar.set_description(f\"Epoch: {epoch+1}, Layer: {i+1}/{len(model.layers)}, Loss: {loss.item():.4f}\")\n",
        "\n",
        "#                 out_pos, out_neg = layer.forward(out_pos).detach(), layer.forward(out_neg).detach()\n",
        "    \n",
        "\n",
        "#         # Average training loss for the epoch\n",
        "#         avg_train_loss = epoch_loss / len(model_train_loop)\n",
        "#         training_losses.append(avg_train_loss)\n",
        "#         print(f\"Epoch {epoch+1} Training Loss: {avg_train_loss:.4f}\")\n",
        "\n",
        "#         # Evaluation and Early Stopping\n",
        "#         # model.eval()\n",
        "#         with torch.no_grad():\n",
        "#             vloss_pos = 0\n",
        "\n",
        "#             # Validation Loop with Progress Bar\n",
        "#             pbar_val = tqdm(enumerate(model_test_loop), desc=f\"Epoch {epoch+1}/{epoch_num} (Validation)\", ncols=100)\n",
        "\n",
        "#             for batch_idx, batch in pbar_val:\n",
        "#                 x_pos = batch[0]\n",
        "#                 x_neg = negative_data_gen(batch)\n",
        "#                 x_pos, x_neg = x_pos.view(-1, image_1d_shape).to(device), x_neg.view(-1, image_1d_shape).to(device)\n",
        "\n",
        "#                 out_pos, out_neg = x_pos, x_neg\n",
        "\n",
        "#                 for i, layer in enumerate(model.layers):\n",
        "#                     oout_pos = layer.forward(out_pos).pow(2).mean(1)\n",
        "#                     oout_neg = layer.forward(out_neg).pow(2).mean(1)\n",
        "                     \n",
        "#                     loss = torch.log(1 + torch.exp(torch.cat([threshold - oout_pos, oout_neg - threshold]))).mean()\n",
        "\n",
        "#                     vloss_pos += loss.item()\n",
        "\n",
        "#                     out_pos, out_neg = layer.forward(out_pos).detach(), layer.forward(out_neg).detach()\n",
        "           \n",
        "#             avg_val_loss = vloss_pos / len(model_test_loop)\n",
        "#             validation_losses.append(avg_val_loss)\n",
        "#             # Update progress bar description with validation loss\n",
        "#             pbar_val.set_description(f\"Epoch: {epoch+1}, Validation Loss: {vloss_pos:.4f}, EStop Status: [{es.status}]\")\n",
        "\n",
        "#     return training_losses, validation_losses\n",
        "    \n",
        "\n",
        "# # l = 5\n",
        "# # es = EarlyStopping()\n",
        "# # pertopune = 0.04\n",
        "\n",
        "# # for i in range(l):\n",
        "    \n",
        "# #     # Reset train and test data loaders\n",
        "# #     model_train_loop = tqdm_notebook(iter(train_loader), leave=False)\n",
        "# #     model_test_loop = tqdm_notebook(iter(test_loader), leave=False)\n",
        "    \n",
        "#     # Start training\n",
        "# #     training_losses, validation_losses = train(model_train_loop, model_test_loop, model, epochs, device, es, image_1d_shape)\n",
        "\n",
        "# #     # Plot training and validation loss vs epoch\n",
        "# #     plt.figure(figsize=(12, 6))\n",
        "# #     plt.subplot(1, 2, 1)\n",
        "# #     plt.plot(training_losses, marker='o', linestyle='-', color='b')\n",
        "# #     plt.title('Training Loss vs Epoch')\n",
        "# #     plt.xlabel('Epoch')\n",
        "# #     plt.ylabel('Training Loss')\n",
        "# #     plt.grid(True)\n",
        "\n",
        "# #     plt.subplot(1, 2, 2)\n",
        "# #     plt.plot(validation_losses, marker='o', linestyle='-', color='r')\n",
        "# #     plt.title('Validation Loss vs Epoch')\n",
        "# #     plt.xlabel('Epoch')\n",
        "# #     plt.ylabel('Validation Loss')\n",
        "# #     plt.grid(True)\n",
        "    \n",
        "# #     plt.tight_layout()\n",
        "# #     plt.savefig(f'training_validation_loss_plot_{i}.png', dpi=300, bbox_inches='tight')\n",
        "# #     plt.show()\n",
        "\n",
        "# #     print(\"Iteration:\", i)\n",
        "\n",
        "# #     parameters_to_prune = []\n",
        "\n",
        "# #     for layer in model.layers:\n",
        "# #         if isinstance(layer, nn.Linear):\n",
        "# #             parameters_to_prune.append((layer, 'weight'))\n",
        "\n",
        "# #     prune.global_unstructured(\n",
        "# #         parameters_to_prune,\n",
        "# #         pruning_method=prune.L1Unstructured,\n",
        "# #         amount=pertopune * (i + 1) \n",
        "# #     )\n",
        "\n",
        "# # for layer in model.layers:\n",
        "# #     if isinstance(layer, nn.Linear):\n",
        "# #         prune.remove(layer, 'weight')\n"
      ]
    },
    {
      "cell_type": "markdown",
      "id": "679d5056",
      "metadata": {},
      "source": [
        "# testing \n"
      ]
    },
    {
      "cell_type": "code",
      "execution_count": 39,
      "id": "1b5c4098",
      "metadata": {},
      "outputs": [
        {
          "name": "stderr",
          "output_type": "stream",
          "text": [
            "                                                                                       \r"
          ]
        },
        {
          "data": {
            "image/png": "[encoded data removed]",
            "text/plain": [
              "<Figure size 1200x600 with 2 Axes>"
            ]
          },
          "metadata": {},
          "output_type": "display_data"
        }
      ],
      "source": [
        "def train(train_loader, test_loader, model, epoch_num, device, es, image_1d_shape, threshold=2):\n",
        "    validation_losses = []\n",
        "    training_losses = []\n",
        "\n",
        "    for epoch in range(epoch_num):\n",
        "        model.train()\n",
        "        epoch_loss = 0.0\n",
        "        # print(f\"Epoch {epoch+1}/{epoch_num} (Training)\")\n",
        "        # for batch in tqdm(train_loader):\n",
        "            # print('hello')\n",
        "        pbar = tqdm(train_loader, desc=f\"Epoch {epoch+1}/{epoch_num} (Training)\", leave=False)\n",
        "        for batch in pbar:\n",
        "            x_pos = batch[0]\n",
        "            # print('before')\n",
        "            x_neg = negative_data_gen(batch)\n",
        "            # print('after')\n",
        "            x_pos, x_neg = x_pos.view(-1, image_1d_shape).to(device), x_neg.view(-1, image_1d_shape).to(device)\n",
        "\n",
        "            out_pos, out_neg = x_pos, x_neg\n",
        "\n",
        "            for i, layer in enumerate(model.layers):\n",
        "                oout_pos = layer.forward(out_pos).pow(2).mean(1)\n",
        "                oout_neg = layer.forward(out_neg).pow(2).mean(1)\n",
        "\n",
        "                loss = torch.log(1 + torch.exp(torch.cat([threshold - oout_pos, oout_neg - threshold]))).mean()\n",
        "\n",
        "                layer.optimizer.zero_grad()\n",
        "                loss.backward()\n",
        "                layer.optimizer.step()\n",
        "\n",
        "                epoch_loss += loss.item()\n",
        "\n",
        "                pbar.set_description(f\"Epoch: {epoch+1}, Layer: {i+1}/{len(model.layers)}, Loss: {loss.item():.4f}\")\n",
        "\n",
        "                out_pos, out_neg = layer.forward(out_pos).detach(), layer.forward(out_neg).detach()\n",
        "\n",
        "        avg_train_loss = epoch_loss / len(train_loader)\n",
        "        # print(f\"avg training loss: {avg_train_loss}\")\n",
        "        training_losses.append(avg_train_loss)\n",
        "\n",
        "        model.eval()\n",
        "        vloss_pos = 0\n",
        "\n",
        "        pbar_val = tqdm(test_loader, desc=f\"Epoch {epoch+1}/{epoch_num} (Validation)\", leave=False)\n",
        "        with torch.no_grad():\n",
        "            for batch in pbar_val:\n",
        "            # print(f\"epoch {epoch+1}/{epoch_num} (Validation)\")\n",
        "            # for batch in tqdm(test_loader):\n",
        "                x_pos = batch[0]\n",
        "                x_neg = negative_data_gen(batch)\n",
        "                x_pos, x_neg = x_pos.view(-1, image_1d_shape).to(device), x_neg.view(-1, image_1d_shape).to(device)\n",
        "\n",
        "                out_pos, out_neg = x_pos, x_neg\n",
        "\n",
        "                for i, layer in enumerate(model.layers):\n",
        "                    oout_pos = layer.forward(out_pos).pow(2).mean(1)\n",
        "                    oout_neg = layer.forward(out_neg).pow(2).mean(1)\n",
        "\n",
        "                    loss = torch.log(1 + torch.exp(torch.cat([threshold - oout_pos, oout_neg - threshold]))).mean()\n",
        "\n",
        "                    vloss_pos += loss.item()\n",
        "\n",
        "                    out_pos, out_neg = layer.forward(out_pos).detach(), layer.forward(out_neg).detach()\n",
        "\n",
        "            avg_val_loss = vloss_pos / len(test_loader)\n",
        "            validation_losses.append(avg_val_loss)\n",
        "            pbar_val.set_description(f\"Epoch: {epoch+1}, Validation Loss: {vloss_pos:.4f}, EStop Status: [{es.status}]\")\n",
        "            # print(f\"avg validation loss: {avg_val_loss}\")\n",
        "\n",
        "    return training_losses, validation_losses\n",
        "\n",
        "l = 5\n",
        "es = EarlyStopping()\n",
        "pertopune = 0.04\n",
        "\n",
        "all_training_losses = []\n",
        "all_validation_losses = []\n",
        "\n",
        "for i in range(l):\n",
        "    # Start training\n",
        "    \n",
        "    training_losses, validation_losses = train(train_loader, test_loader, model, epochs, device, es, image_1d_shape)\n",
        "    \n",
        "    # Append losses for plotting later\n",
        "    all_training_losses.append((training_losses, pertopune*(i+1)))\n",
        "    all_validation_losses.append((validation_losses, pertopune*(i+1)))\n",
        "\n",
        "    parameters_to_prune = []\n",
        "    \n",
        "    for layer in model.layers:\n",
        "        if isinstance(layer, nn.Linear):\n",
        "            parameters_to_prune.append((layer, 'weight'))\n",
        "     \n",
        "    prune.global_unstructured(\n",
        "        parameters_to_prune,\n",
        "        pruning_method=prune.L1Unstructured,\n",
        "        amount=pertopune*(i+1)\n",
        "    )\n",
        "    \n",
        "    for layer in model.layers:\n",
        "        if isinstance(layer, nn.Linear):\n",
        "            prune.remove(layer, 'weight')\n",
        "    \n",
        "# Plot all training and validation losses in a single graph\n",
        "plt.figure(figsize=(12, 6))\n",
        "\n",
        "# Plot training loss curves\n",
        "plt.subplot(1, 2, 1)\n",
        "for idx, (losses, prune_val) in enumerate(all_training_losses):\n",
        "    plt.plot(losses, marker='o', linestyle='-', label=f'Prune: {prune_val:.2f}')\n",
        "plt.title('Training Loss vs Epoch')\n",
        "plt.xlabel('Epoch')\n",
        "plt.ylabel('Training Loss')\n",
        "plt.legend()\n",
        "plt.grid(True)\n",
        "\n",
        "# Plot validation loss curves\n",
        "plt.subplot(1, 2, 2)\n",
        "for idx, (losses, prune_val) in enumerate(all_validation_losses):\n",
        "    plt.plot(losses, marker='o', linestyle='-', label=f'Prune: {prune_val:.2f}')\n",
        "plt.title('Validation Loss vs Epoch')\n",
        "plt.xlabel('Epoch')\n",
        "plt.ylabel('Validation Loss')\n",
        "plt.legend()\n",
        "plt.grid(True)\n",
        " \n",
        "plt.tight_layout()\n",
        " \n",
        "# Save the figure with all plots\n",
        "plt.savefig('training_validation_loss_all_plots.png', dpi=300, bbox_inches='tight')\n",
        "\n",
        "# Show the plot (optional, remove if you don't want to display it)\n",
        "plt.show() \n",
        "            "
      ]
    },
    {
      "cell_type": "code",
      "execution_count": 40,
      "id": "edc49289",
      "metadata": {},
      "outputs": [],
      "source": [
        "torch.save( model.state_dict(), 'unsupervised_ff_model.pth')\n"
      ]
    },
    {
      "cell_type": "code",
      "execution_count": 27,
      "id": "d0a4c341",
      "metadata": {},
      "outputs": [
        {
          "data": {
            "text/plain": [
              "[([424.8419173359871,\n",
              "   419.3568702340126,\n",
              "   416.83201533555984,\n",
              "   413.6595047712326,\n",
              "   409.78352266550064],\n",
              "  0.04),\n",
              " ([403.8566859960556,\n",
              "   401.1523411870003,\n",
              "   398.8057594895363,\n",
              "   396.51411616802216,\n",
              "   394.13215059041977],\n",
              "  0.08),\n",
              " ([391.6459275484085,\n",
              "   389.2640134692192,\n",
              "   387.8347603082657,\n",
              "   385.70855259895325,\n",
              "   385.15670442581177],\n",
              "  0.12),\n",
              " ([384.8737441599369,\n",
              "   383.1385500729084,\n",
              "   383.2841335237026,\n",
              "   381.53789269924164,\n",
              "   382.91044449806213],\n",
              "  0.16),\n",
              " ([380.6529126763344,\n",
              "   377.3794792294502,\n",
              "   378.6143035888672,\n",
              "   378.73889514803886,\n",
              "   380.24845707416534],\n",
              "  0.2)]"
            ]
          },
          "execution_count": 27,
          "metadata": {},
          "output_type": "execute_result"
        }
      ],
      "source": [
        "all_validation_losses"
      ]
    },
    {
      "cell_type": "markdown",
      "id": "3c197923",
      "metadata": {},
      "source": [
        "# testing 2"
      ]
    },
    {
      "cell_type": "code",
      "execution_count": 39,
      "id": "732e817d",
      "metadata": {},
      "outputs": [
        {
          "name": "stderr",
          "output_type": "stream",
          "text": [
            "Epoch: 1, Layer: 2/4, Loss: 0.6890:  94%|█████████▍| 885/938 [07:06<34:35, 39.15s/it]"
          ]
        }
      ],
      "source": [
        "from torch.optim import Adam\n",
        "\n",
        "import torch.nn.utils.prune as prune\n",
        "import torch.autograd.profiler as profiler\n",
        "\n",
        "\n",
        "class FFLayer(nn.Linear):\n",
        "    def __init__(self, in_features, out_features, bias=True, device='cpu', dtype=None, dropout_rate=0.5):\n",
        "        super().__init__(in_features, out_features, bias, device, dtype)\n",
        "        self.relu = nn.ReLU()\n",
        "        self.dropout = nn.Dropout(p=dropout_rate)\n",
        "        self.optimizer = Adam(self.parameters(), lr=0.001)  # Assuming a learning rate\n",
        "        self.threshold = 2  # Assuming a threshold value\n",
        "\n",
        "    def forward(self, x):\n",
        "        if x.dim() == 1:\n",
        "            x_direction = x / (x.norm(2) + 1e-4)\n",
        "        else:\n",
        "            x_direction = x / (x.norm(2, dim=-1, keepdim=True) + 1e-4)\n",
        "\n",
        "        x = super().forward(x_direction)\n",
        "        x = self.relu(x)\n",
        "        x = self.dropout(x)\n",
        "        return x\n",
        "\n",
        "class FFNet(nn.Module):\n",
        "    def __init__(self, layers, device, input_dim):\n",
        "        super().__init__()\n",
        "        self.layers = nn.ModuleList([FFLayer(input_dim if i == 0 else layers[i], layers[i+1]).to(device)\n",
        "                                     for i in range(len(layers)-1)])\n",
        "\n",
        "    def forward(self, x):\n",
        "        for layer in self.layers:\n",
        "            x = layer(x)\n",
        "        return x\n",
        "\n",
        "    def predict(self, x, softmax_layers, device):\n",
        "        layers_output = torch.Tensor([]).to(device)\n",
        "        h = x\n",
        "        for i, layer in enumerate(self.layers):\n",
        "            h = layer(h)\n",
        "            if i in softmax_layers:\n",
        "                layers_output = torch.cat([layers_output, h], 1)\n",
        "        return layers_output\n",
        "\n",
        "\n",
        "# Profiling Training Function\n",
        "def profiled_train(train_loader, test_loader, model, epoch_num, device, es, image_1d_shape, threshold=2):\n",
        "    validation_losses = []\n",
        "    training_losses = []\n",
        "\n",
        "    for epoch in range(epoch_num):\n",
        "        model.train()\n",
        "        epoch_loss = 0.0\n",
        "\n",
        "        pbar = tqdm(train_loader, desc=f\"Epoch {epoch+1}/{epoch_num} (Training)\", leave=False)\n",
        "        for batch in pbar:\n",
        "            x_pos = batch[0].view(-1, image_1d_shape).to(device)\n",
        "            x_neg = negative_data_gen(batch).view(-1, image_1d_shape).to(device)\n",
        "\n",
        "            out_pos, out_neg = x_pos, x_neg\n",
        "\n",
        "            for i, layer in enumerate(model.layers):\n",
        "                oout_pos = layer.forward(out_pos).pow(2).mean(1)\n",
        "                oout_neg = layer.forward(out_neg).pow(2).mean(1)\n",
        "\n",
        "                loss = torch.log(1 + torch.exp(torch.cat([threshold - oout_pos, oout_neg - threshold]))).mean()\n",
        "\n",
        "                layer.optimizer.zero_grad()\n",
        "                loss.backward()\n",
        "                layer.optimizer.step()\n",
        "\n",
        "                epoch_loss += loss.item()\n",
        "\n",
        "                pbar.set_description(f\"Epoch: {epoch+1}, Layer: {i+1}/{len(model.layers)}, Loss: {loss.item():.4f}\")\n",
        "\n",
        "                out_pos, out_neg = layer.forward(out_pos).detach(), layer.forward(out_neg).detach()\n",
        "\n",
        "        training_losses.append(epoch_loss / len(train_loader))\n",
        "\n",
        "        # Validation\n",
        "        model.eval()\n",
        "        vloss_pos = 0\n",
        "        with torch.no_grad():\n",
        "            for batch in tqdm(test_loader, desc=f\"Epoch {epoch+1}/{epoch_num} (Validation)\", leave=False):\n",
        "                x_pos = batch[0].view(-1, image_1d_shape).to(device)\n",
        "                x_neg = negative_data_gen(batch).view(-1, image_1d_shape).to(device)\n",
        "\n",
        "                out_pos, out_neg = x_pos, x_neg\n",
        "                for layer in model.layers:\n",
        "                    oout_pos = layer.forward(out_pos).pow(2).mean(1)\n",
        "                    oout_neg = layer.forward(out_neg).pow(2).mean(1)\n",
        "\n",
        "                    loss = torch.log(1 + torch.exp(torch.cat([threshold - oout_pos, oout_neg - threshold]))).mean()\n",
        "\n",
        "                    vloss_pos += loss.item()\n",
        "\n",
        "                validation_losses.append(vloss_pos / len(test_loader))\n",
        "\n",
        "    return training_losses, validation_losses\n",
        "\n",
        "# Function to be profiled\n",
        "def run_profiled_training(train_loader, test_loader, model, epochs, device, es, image_1d_shape):\n",
        "    with profiler.profile( record_shapes=True, use_device = 'cuda') as prof:\n",
        "        training_losses, validation_losses = profiled_train(train_loader, test_loader, model, epochs, device, es, image_1d_shape)\n",
        "    print(prof.key_averages().table(sort_by=\"cuda_time_total\"))\n",
        "    return training_losses, validation_losses\n",
        "\n",
        "# Assume you've already defined train_loader, test_loader, model, epochs, image_1d_shape, etc.\n",
        "\n",
        "l = 5\n",
        "es = EarlyStopping()\n",
        "pertopune = 0.04\n",
        "\n",
        "all_training_losses = []\n",
        "all_validation_losses = []\n",
        "\n",
        "for i in range(l):\n",
        "    # Start profiling and training\n",
        "    training_losses, validation_losses = run_profiled_training(train_loader, test_loader, model, epochs, device, es, image_1d_shape)\n",
        "\n",
        "    # Append losses for plotting later\n",
        "    all_training_losses.append((training_losses, pertopune*(i+1)))\n",
        "    all_validation_losses.append((validation_losses, pertopune*(i+1)))\n",
        "\n",
        "    parameters_to_prune = []\n",
        "    for layer in model.layers:\n",
        "        if isinstance(layer, nn.Linear):\n",
        "            parameters_to_prune.append((layer, 'weight'))\n",
        "\n",
        "    prune.global_unstructured(\n",
        "        parameters_to_prune,\n",
        "        pruning_method=prune.L1Unstructured,\n",
        "        amount=pertopune*(i+1)\n",
        "    )\n",
        "\n",
        "    for layer in model.layers:\n",
        "        if isinstance(layer, nn.Linear):\n",
        "            prune.remove(layer, 'weight')\n",
        "\n",
        "# Plot all training and validation losses in a single graph\n",
        "plt.figure(figsize=(12, 6))\n",
        "\n",
        "# Plot training loss curves\n",
        "plt.subplot(1, 2, 1)\n",
        "for idx, (losses, prune_val) in enumerate(all_training_losses):\n",
        "    plt.plot(losses, marker='o', linestyle='-', label=f'Prune: {prune_val:.2f}')\n",
        "plt.title('Training Loss vs Epoch')\n",
        "plt.xlabel('Epoch')\n",
        "plt.ylabel('Training Loss')\n",
        "plt.legend()\n",
        "plt.grid(True)\n",
        "\n",
        "# Plot validation loss curves\n",
        "plt.subplot(1, 2, 2)\n",
        "for idx, (losses, prune_val) in enumerate(all_validation_losses):\n",
        "    plt.plot(losses, marker='o', linestyle='-', label=f'Prune: {prune_val:.2f}')\n",
        "plt.title('Validation Loss vs Epoch')\n",
        "plt.xlabel('Epoch')\n",
        "plt.ylabel('Validation Loss')\n",
        "plt.legend()\n",
        "plt.grid(True)\n",
        "\n",
        "plt.tight_layout()\n",
        "\n",
        "# Save the figure with all plots\n",
        "plt.savefig('training_validation_loss_all_plots.png', dpi=300, bbox_inches='tight')\n",
        "\n",
        "# Show the plot (optional, remove if you don't want to display it)\n",
        "plt.show()\n"
      ]
    },
    {
      "cell_type": "code",
      "execution_count": null,
      "id": "7ce2912a",
      "metadata": {},
      "outputs": [],
      "source": [
        "torch.save( model.state_dict(), 'unsupervised_ff_model2.pth')\n"
      ]
    },
    {
      "cell_type": "code",
      "execution_count": 106,
      "id": "decc4cd4",
      "metadata": {
        "id": "decc4cd4",
        "outputId": "ae9cb344-cc27-464d-9ab9-2bbc3a7ba0f7"
      },
      "outputs": [
        {
          "name": "stdout",
          "output_type": "stream",
          "text": [
            "layers.0.bias: 2000\n",
            "layers.0.weight: 1222569\n",
            "layers.1.bias: 2000\n",
            "layers.1.weight: 3255172\n",
            "layers.2.bias: 2000\n",
            "layers.2.weight: 2720734\n",
            "layers.3.bias: 2000\n",
            "layers.3.weight: 2299125\n",
            "\n",
            "\n",
            "total number of non-zero parameters :  9505600\n"
          ]
        }
      ],
      "source": [
        "count_nonzero_parameters(model) \n",
        "print(\"\\n\")\n",
        "print( \"total number of non-zero parameters : \", count_nonzero_parameterss(model) )\n"
      ]
    },
    {
      "cell_type": "code",
      "execution_count": 67,
      "id": "dae938b6",
      "metadata": {
        "id": "dae938b6",
        "outputId": "81d77a6f-8107-4d46-da63-f1dd955807b7"
      },
      "outputs": [
        {
          "data": {
            "text/plain": [
              "9505600"
            ]
          },
          "execution_count": 67,
          "metadata": {},
          "output_type": "execute_result"
        }
      ],
      "source": [
        "count_nonzero_parameterss(model) "
      ]
    },
    {
      "cell_type": "code",
      "execution_count": 107,
      "id": "KmV1p2_EBp5Q",
      "metadata": {
        "colab": {
          "base_uri": "https://localhost:8080/"
        },
        "id": "KmV1p2_EBp5Q",
        "outputId": "f26ce766-fdd1-4bfa-a0a4-487866c74fe0"
      },
      "outputs": [
        {
          "name": "stdout",
          "output_type": "stream",
          "text": [
            "OrderedDict([('layers.0.bias', tensor([-0.1075, -0.1158, -0.2135,  ...,  0.0405,  0.3740,  0.6517],\n",
            "       device='cuda:0')), ('layers.0.weight', tensor([[-0., -0., -0.,  ..., -0., 0., -0.],\n",
            "        [-0., -0., 0.,  ..., 0., 0., 0.],\n",
            "        [-0., -0., -0.,  ..., 0., -0., 0.],\n",
            "        ...,\n",
            "        [-0., 0., -0.,  ..., -0., -0., 0.],\n",
            "        [0., -0., 0.,  ..., -0., 0., -0.],\n",
            "        [0., 0., 0.,  ..., -0., 0., 0.]], device='cuda:0')), ('layers.1.bias', tensor([0.1944, 0.2392, 0.3935,  ..., 0.2390, 0.3855, 0.4267], device='cuda:0')), ('layers.1.weight', tensor([[-0.1239, -0.1229, -0.1362,  ...,  0.0000,  0.0000,  0.0000],\n",
            "        [ 0.1129,  0.0736,  0.1367,  ...,  0.0550, -0.0000,  0.0413],\n",
            "        [ 0.0666,  0.0000,  0.1213,  ...,  0.0764,  0.1277, -0.0000],\n",
            "        ...,\n",
            "        [-0.0867, -0.1874, -0.0000,  ...,  0.1264, -0.2082,  0.0000],\n",
            "        [-0.3336, -0.5603, -0.4058,  ..., -0.3772,  0.6969,  0.7403],\n",
            "        [-0.0000, -0.0800, -0.1138,  ...,  0.1313,  0.2314,  0.1796]],\n",
            "       device='cuda:0')), ('layers.2.bias', tensor([0.2368, 0.0973, 0.3381,  ..., 0.1809, 0.2305, 0.0908], device='cuda:0')), ('layers.2.weight', tensor([[ 0.1464,  0.0441,  0.0000,  ...,  0.1214, -0.1246, -0.0000],\n",
            "        [ 0.1840, -0.0000, -0.0756,  ...,  0.0609, -0.1852, -0.1615],\n",
            "        [ 0.1010, -0.0861,  0.0000,  ..., -0.0681, -0.0564, -0.0000],\n",
            "        ...,\n",
            "        [ 0.0814,  0.1552, -0.0743,  ..., -0.0000,  0.0872, -0.1303],\n",
            "        [ 0.0998,  0.0479, -0.0441,  ..., -0.0000,  0.0523, -0.1767],\n",
            "        [ 0.1404,  0.0801, -0.0782,  ...,  0.1350, -0.2378, -0.1257]],\n",
            "       device='cuda:0')), ('layers.3.bias', tensor([0.0900, 0.0830, 0.1530,  ..., 0.1777, 0.1001, 0.1185], device='cuda:0')), ('layers.3.weight', tensor([[-0.0000, -0.0000, -0.1294,  ...,  0.0000, -0.1537,  0.1618],\n",
            "        [-0.1004, -0.0839, -0.0610,  ...,  0.1406, -0.0000,  0.0000],\n",
            "        [ 0.0000, -0.0747,  0.0978,  ...,  0.1001, -0.0000, -0.1226],\n",
            "        ...,\n",
            "        [ 0.0000, -0.0875,  0.0000,  ...,  0.1715,  0.1246, -0.0836],\n",
            "        [-0.0000, -0.0487,  0.0000,  ...,  0.0641,  0.0000, -0.0000],\n",
            "        [ 0.0000, -0.0000,  0.0893,  ...,  0.0970,  0.0692, -0.0000]],\n",
            "       device='cuda:0'))])\n"
          ]
        }
      ],
      "source": [
        "print(model.state_dict())  "
      ]
    },
    {
      "cell_type": "code",
      "execution_count": 68,
      "id": "b5ON4sZY0CUo",
      "metadata": {
        "id": "b5ON4sZY0CUo"
      },
      "outputs": [],
      "source": [
        "torch.save(model.state_dict(), 'model_mlp.pth')"
      ]
    },
    {
      "cell_type": "code",
      "execution_count": 70,
      "id": "QznXzsdx7ZoT",
      "metadata": {
        "colab": {
          "base_uri": "https://localhost:8080/"
        },
        "id": "QznXzsdx7ZoT",
        "outputId": "f0dead0e-e718-4d35-cdf1-872fa01fd45b"
      },
      "outputs": [
        {
          "data": {
            "text/plain": [
              "<All keys matched successfully>"
            ]
          },
          "execution_count": 70,
          "metadata": {},
          "output_type": "execute_result"
        }
      ],
      "source": [
        "\n",
        "modell = FFNet(layers, device, input_dim =784 )\n",
        "modell.load_state_dict(torch.load('model_mlp.pth'))"
      ]
    },
    {
      "cell_type": "markdown",
      "id": "db32b1e0",
      "metadata": {
        "id": "db32b1e0"
      },
      "source": [
        "# Defining the Linear Classifier"
      ]
    },
    {
      "cell_type": "code",
      "execution_count": 85,
      "id": "99841f73",
      "metadata": {
        "id": "99841f73"
      },
      "outputs": [],
      "source": [
        "class LinearClassification(nn.Module):\n",
        "    \n",
        "    def __init__(self, input_dimension):\n",
        "        super().__init__()\n",
        "        self.epoch_losses = []\n",
        "        self.linear = torch.nn.Linear(input_dimension, 10).to(device)\n",
        "        self.optimizer = SGD(self.parameters(), lr=learning_rate_lc)\n",
        "        self.criterion = nn.CrossEntropyLoss()\n",
        "        self.softmax = nn.Softmax()\n",
        "\n",
        "    def forward(self,x):\n",
        "        return self.linear(x)\n",
        "\n",
        "    def accuracy_f(self, y_pred, y_true):\n",
        "        batch_size = y_pred.size(0)\n",
        "        _, predicted_labels = y_pred.max(1)\n",
        "        y_pred_onehot = torch.zeros_like(y_pred)\n",
        "        y_pred_onehot.scatter_(1, predicted_labels.view(-1,1), 1)\n",
        "        correct = (y_pred_onehot == y_true).sum().item()\n",
        "        accuracy = correct / (batch_size * y_true.size(1))\n",
        "        return accuracy\n",
        "\n",
        "    def predict(self,x):\n",
        "        x = x.view(-1,image_1d_shape).to(device)\n",
        "        h_activity = model.predict(x,softmax_layers)\n",
        "        y_h = self.forward(h_activity)\n",
        "        soft_out = self.softmax(y_h)\n",
        "        return soft_out.argmax()\n",
        "\n",
        "\n",
        "    def train(self, data_loader, epoch_num, device=\"cpu\"):\n",
        "        linear_loop = tqdm_notebook(range(epoch_num),total=epoch_num)\n",
        "        for i in linear_loop:\n",
        "            batch_losses = []\n",
        "            for batch in iter(data_loader):\n",
        "                x,y = batch\n",
        "                x = x.view(-1,image_1d_shape).to(device)\n",
        "                y_r = label_to_oh(y).to(device)\n",
        "                h_activity = model.predict(x,softmax_layers, device)\n",
        "                y_h = self.forward(h_activity)\n",
        "                loss = self.criterion(y_h,y_r)\n",
        "                self.optimizer.zero_grad()\n",
        "                loss.backward()\n",
        "                self.optimizer.step()\n",
        "                batch_losses.append(loss)\n",
        "            self.epoch_losses.append(float(sum(batch_losses)/len(batch_losses)))\n",
        "            linear_loop.set_description(f\"Epoch [{i+1}/{epoch_num}]: \")\n",
        "            linear_loop.set_postfix(loss=self.epoch_losses[i])\n",
        "\n",
        "    def test(self, data_loader, device=\"cpu\"):\n",
        "        batch_losses = []\n",
        "        test_loss = 0\n",
        "        batch_accuracy = []\n",
        "        for batch in iter(data_loader):\n",
        "            x,y = batch\n",
        "            x = x.view(-1,image_1d_shape).to(device)\n",
        "            y_r = label_to_oh(y).to(device)\n",
        "            h_activity = model.predict(x,softmax_layers, device)\n",
        "            y_h = self.forward(h_activity)\n",
        "            accuracy = self.accuracy_f(y_h,y_r)\n",
        "            loss = self.criterion(y_h,y_r)\n",
        "            batch_losses.append(loss)\n",
        "            batch_accuracy.append(float(accuracy))\n",
        "        test_loss = float(sum(batch_losses)/len(batch_losses))\n",
        "        test_accuracy = float(sum(batch_accuracy)/len(batch_accuracy))\n",
        "        return test_loss,test_accuracy\n",
        "\n"
      ]
    },
    {
      "cell_type": "code",
      "execution_count": 72,
      "id": "bb83becc",
      "metadata": {
        "id": "bb83becc"
      },
      "outputs": [],
      "source": [
        "def neuron_num(layers,softmax_layers):\n",
        "    num = 0\n",
        "    layers = layers[1:]\n",
        "    for i in softmax_layers:\n",
        "            num += layers[i]\n",
        "    return num"
      ]
    },
    {
      "cell_type": "markdown",
      "id": "f0afe185",
      "metadata": {
        "id": "f0afe185"
      },
      "source": [
        "# Training the Linear Classifier\n",
        "\n",
        "---\n",
        "\n",
        "\n",
        "### Training the linear classifier in order to learn a simple linear transformation for predicting the labels"
      ]
    },
    {
      "cell_type": "code",
      "execution_count": 86,
      "id": "c82b6a9f",
      "metadata": {
        "colab": {
          "base_uri": "https://localhost:8080/",
          "height": 49,
          "referenced_widgets": [
            "74702207902e4768b23070347c71d595",
            "1875372ece174407909f92f9a386c1b0",
            "b9ca3c27bf994484ab0eb1c334accf2f",
            "2cbaa3401a85463f896e42ddd51328e1",
            "f441aed855ec4a748a056ffae1cb87db",
            "7a743ef4663c466685c2964e396ccc0b",
            "414a9d76680e4a6bad0959bf11eb22da",
            "891dccbd43eb49e1a17136903c5fd247",
            "7d696ea990d34684946b125877127e02",
            "e9247b916ab5491a9adccdbe8def0831",
            "3d556847df95492fa4bd417bdeac0e88"
          ]
        },
        "id": "c82b6a9f",
        "outputId": "e77a7350-6d7d-475d-9d97-67474962c234",
        "scrolled": true
      },
      "outputs": [
        {
          "data": {
            "application/vnd.jupyter.widget-view+json": {
              "model_id": "72cf465017f6433a86f91183b55cbfe6",
              "version_major": 2,
              "version_minor": 0
            },
            "text/plain": [
              "  0%|          | 0/10 [00:00<?, ?it/s]"
            ]
          },
          "metadata": {},
          "output_type": "display_data"
        }
      ],
      "source": [
        "linear_model = LinearClassification( neuron_num(layers,softmax_layers) )\n",
        "losses = linear_model.train( train_loader, epochs, device )"
      ]
    },
    {
      "cell_type": "code",
      "execution_count": 87,
      "id": "xnxcE1zs4DpR",
      "metadata": {
        "id": "xnxcE1zs4DpR"
      },
      "outputs": [],
      "source": [
        "torch.save(linear_model.state_dict(), 'model_linear.pth')"
      ]
    },
    {
      "cell_type": "code",
      "execution_count": 88,
      "id": "iyJMOlff3xQQ",
      "metadata": {
        "colab": {
          "base_uri": "https://localhost:8080/"
        },
        "id": "iyJMOlff3xQQ",
        "outputId": "08462bad-f97f-4819-f968-2d663cd39213"
      },
      "outputs": [
        {
          "data": {
            "text/plain": [
              "<All keys matched successfully>"
            ]
          },
          "execution_count": 88,
          "metadata": {},
          "output_type": "execute_result"
        }
      ],
      "source": [
        "linear_model = LinearClassification(neuron_num(layers,softmax_layers))\n",
        "linear_model.load_state_dict(torch.load('model_linear.pth'))"
      ]
    },
    {
      "cell_type": "code",
      "execution_count": 89,
      "id": "b28356e4",
      "metadata": {
        "id": "b28356e4"
      },
      "outputs": [
        {
          "ename": "TypeError",
          "evalue": "FFNet.predict() missing 1 required positional argument: 'device'",
          "output_type": "error",
          "traceback": [
            "\u001b[0;31m---------------------------------------------------------------------------\u001b[0m",
            "\u001b[0;31mTypeError\u001b[0m                                 Traceback (most recent call last)",
            "Cell \u001b[0;32mIn[89], line 1\u001b[0m\n\u001b[0;32m----> 1\u001b[0m loss, accuracy \u001b[38;5;241m=\u001b[39m (\u001b[43mlinear_model\u001b[49m\u001b[38;5;241;43m.\u001b[39;49m\u001b[43mtest\u001b[49m\u001b[43m(\u001b[49m\u001b[43mtest_loader\u001b[49m\u001b[43m,\u001b[49m\u001b[43m \u001b[49m\u001b[43mdevice\u001b[49m\u001b[43m)\u001b[49m)\n",
            "Cell \u001b[0;32mIn[85], line 57\u001b[0m, in \u001b[0;36mLinearClassification.test\u001b[0;34m(self, data_loader, device)\u001b[0m\n\u001b[1;32m     55\u001b[0m x \u001b[38;5;241m=\u001b[39m x\u001b[38;5;241m.\u001b[39mview(\u001b[38;5;241m-\u001b[39m\u001b[38;5;241m1\u001b[39m,image_1d_shape)\u001b[38;5;241m.\u001b[39mto(device)\n\u001b[1;32m     56\u001b[0m y_r \u001b[38;5;241m=\u001b[39m label_to_oh(y)\u001b[38;5;241m.\u001b[39mto(device)\n\u001b[0;32m---> 57\u001b[0m h_activity \u001b[38;5;241m=\u001b[39m \u001b[43mmodel\u001b[49m\u001b[38;5;241;43m.\u001b[39;49m\u001b[43mpredict\u001b[49m\u001b[43m(\u001b[49m\u001b[43mx\u001b[49m\u001b[43m,\u001b[49m\u001b[43msoftmax_layers\u001b[49m\u001b[43m)\u001b[49m\n\u001b[1;32m     58\u001b[0m y_h \u001b[38;5;241m=\u001b[39m \u001b[38;5;28mself\u001b[39m\u001b[38;5;241m.\u001b[39mforward(h_activity)\n\u001b[1;32m     59\u001b[0m accuracy \u001b[38;5;241m=\u001b[39m \u001b[38;5;28mself\u001b[39m\u001b[38;5;241m.\u001b[39maccuracy_f(y_h,y_r)\n",
            "\u001b[0;31mTypeError\u001b[0m: FFNet.predict() missing 1 required positional argument: 'device'"
          ]
        }
      ],
      "source": [
        "loss, accuracy = (linear_model.test(test_loader, device))"
      ]
    },
    {
      "cell_type": "code",
      "execution_count": null,
      "id": "HThNB1Yj26Gj",
      "metadata": {
        "colab": {
          "base_uri": "https://localhost:8080/"
        },
        "id": "HThNB1Yj26Gj",
        "outputId": "c0835485-5325-4283-bd23-4ca6ec5a6526"
      },
      "outputs": [
        {
          "ename": "NameError",
          "evalue": "name 'loss' is not defined",
          "output_type": "error",
          "traceback": [
            "\u001b[0;31m---------------------------------------------------------------------------\u001b[0m",
            "\u001b[0;31mNameError\u001b[0m                                 Traceback (most recent call last)",
            "Cell \u001b[0;32mIn[80], line 1\u001b[0m\n\u001b[0;32m----> 1\u001b[0m \u001b[43mloss\u001b[49m\n",
            "\u001b[0;31mNameError\u001b[0m: name 'loss' is not defined"
          ]
        }
      ],
      "source": [
        "loss"
      ]
    },
    {
      "cell_type": "code",
      "execution_count": null,
      "id": "HP6A2HVw28uw",
      "metadata": {
        "colab": {
          "base_uri": "https://localhost:8080/"
        },
        "id": "HP6A2HVw28uw",
        "outputId": "dffa45c3-3854-47cb-ad27-d01d81823a04"
      },
      "outputs": [
        {
          "data": {
            "text/plain": [
              "0.9886750637755102"
            ]
          },
          "execution_count": 40,
          "metadata": {},
          "output_type": "execute_result"
        }
      ],
      "source": [
        "accuracy"
      ]
    },
    {
      "cell_type": "code",
      "execution_count": null,
      "id": "11b2ad21",
      "metadata": {
        "colab": {
          "base_uri": "https://localhost:8080/",
          "height": 452
        },
        "id": "11b2ad21",
        "outputId": "d4431029-4cca-4937-869a-a291d8ccfcc3"
      },
      "outputs": [
        {
          "data": {
            "image/png": "[encoded data removed]",
            "text/plain": [
              "<Figure size 640x480 with 1 Axes>"
            ]
          },
          "metadata": {},
          "output_type": "display_data"
        }
      ],
      "source": [
        "plt.plot(linear_model.epoch_losses)\n",
        "plt.title(\"Loss over training\")\n",
        "plt.show()"
      ]
    },
    {
      "cell_type": "code",
      "execution_count": null,
      "id": "fe6f02c3",
      "metadata": {
        "colab": {
          "base_uri": "https://localhost:8080/"
        },
        "id": "fe6f02c3",
        "outputId": "7cbe97d2-5146-4982-b2eb-825a4103b2c5"
      },
      "outputs": [
        {
          "name": "stderr",
          "output_type": "stream",
          "text": [
            "/usr/local/lib/python3.10/dist-packages/torch/nn/modules/module.py:1532: UserWarning: Implicit dimension choice for softmax has been deprecated. Change the call to include dim=X as an argument.\n",
            "  return self._call_impl(*args, **kwargs)\n"
          ]
        },
        {
          "data": {
            "image/png": "[encoded data removed]",
            "text/plain": [
              "<Figure size 640x480 with 4 Axes>"
            ]
          },
          "metadata": {},
          "output_type": "display_data"
        }
      ],
      "source": [
        "batch = next(iter(test_loader))\n",
        "n = 4\n",
        "fig, ax1 = plt.subplots(1, n)\n",
        "for i in range(n):\n",
        "    x = batch[0][i]\n",
        "    num=int(linear_model.predict(x))\n",
        "    ax1[i].imshow(x.squeeze(),cmap=\"gray\")\n",
        "    ax1[i].set_title(str(num))\n",
        "plt.show()"
      ]
    },
    {
      "cell_type": "code",
      "execution_count": null,
      "id": "edc6f57d",
      "metadata": {
        "id": "edc6f57d"
      },
      "outputs": [],
      "source": []
    }
  ],
  "metadata": {
    "colab": {
      "provenance": []
    },
    "kernelspec": {
      "display_name": "Python 3",
      "name": "python3"
    },
    "language_info": {
      "codemirror_mode": {
        "name": "ipython",
        "version": 3
      },
      "file_extension": ".py",
      "mimetype": "text/x-python",
      "name": "python",
      "nbconvert_exporter": "python",
      "pygments_lexer": "ipython3",
      "version": "3.10.12"
    },
    "widgets": {
      "application/vnd.jupyter.widget-state+json": {
        "02585aee801d4ae3ad151c22201e5f62": {
          "model_module": "@jupyter-widgets/controls",
          "model_module_version": "1.5.0",
          "model_name": "ProgressStyleModel",
          "state": {
            "_model_module": "@jupyter-widgets/controls",
            "_model_module_version": "1.5.0",
            "_model_name": "ProgressStyleModel",
            "_view_count": null,
            "_view_module": "@jupyter-widgets/base",
            "_view_module_version": "1.2.0",
            "_view_name": "StyleView",
            "bar_color": null,
            "description_width": ""
          }
        },
        "029b5eb722f940ca9ff1b77897ec463f": {
          "model_module": "@jupyter-widgets/base",
          "model_module_version": "1.2.0",
          "model_name": "LayoutModel",
          "state": {
            "_model_module": "@jupyter-widgets/base",
            "_model_module_version": "1.2.0",
            "_model_name": "LayoutModel",
            "_view_count": null,
            "_view_module": "@jupyter-widgets/base",
            "_view_module_version": "1.2.0",
            "_view_name": "LayoutView",
            "align_content": null,
            "align_items": null,
            "align_self": null,
            "border": null,
            "bottom": null,
            "display": null,
            "flex": null,
            "flex_flow": null,
            "grid_area": null,
            "grid_auto_columns": null,
            "grid_auto_flow": null,
            "grid_auto_rows": null,
            "grid_column": null,
            "grid_gap": null,
            "grid_row": null,
            "grid_template_areas": null,
            "grid_template_columns": null,
            "grid_template_rows": null,
            "height": null,
            "justify_content": null,
            "justify_items": null,
            "left": null,
            "margin": null,
            "max_height": null,
            "max_width": null,
            "min_height": null,
            "min_width": null,
            "object_fit": null,
            "object_position": null,
            "order": null,
            "overflow": null,
            "overflow_x": null,
            "overflow_y": null,
            "padding": null,
            "right": null,
            "top": null,
            "visibility": null,
            "width": null
          }
        },
        "10b4808d5b7b40289fc799c40b3402bc": {
          "model_module": "@jupyter-widgets/base",
          "model_module_version": "1.2.0",
          "model_name": "LayoutModel",
          "state": {
            "_model_module": "@jupyter-widgets/base",
            "_model_module_version": "1.2.0",
            "_model_name": "LayoutModel",
            "_view_count": null,
            "_view_module": "@jupyter-widgets/base",
            "_view_module_version": "1.2.0",
            "_view_name": "LayoutView",
            "align_content": null,
            "align_items": null,
            "align_self": null,
            "border": null,
            "bottom": null,
            "display": null,
            "flex": null,
            "flex_flow": null,
            "grid_area": null,
            "grid_auto_columns": null,
            "grid_auto_flow": null,
            "grid_auto_rows": null,
            "grid_column": null,
            "grid_gap": null,
            "grid_row": null,
            "grid_template_areas": null,
            "grid_template_columns": null,
            "grid_template_rows": null,
            "height": null,
            "justify_content": null,
            "justify_items": null,
            "left": null,
            "margin": null,
            "max_height": null,
            "max_width": null,
            "min_height": null,
            "min_width": null,
            "object_fit": null,
            "object_position": null,
            "order": null,
            "overflow": null,
            "overflow_x": null,
            "overflow_y": null,
            "padding": null,
            "right": null,
            "top": null,
            "visibility": null,
            "width": null
          }
        },
        "1875372ece174407909f92f9a386c1b0": {
          "model_module": "@jupyter-widgets/controls",
          "model_module_version": "1.5.0",
          "model_name": "HTMLModel",
          "state": {
            "_dom_classes": [],
            "_model_module": "@jupyter-widgets/controls",
            "_model_module_version": "1.5.0",
            "_model_name": "HTMLModel",
            "_view_count": null,
            "_view_module": "@jupyter-widgets/controls",
            "_view_module_version": "1.5.0",
            "_view_name": "HTMLView",
            "description": "",
            "description_tooltip": null,
            "layout": "IPY_MODEL_7a743ef4663c466685c2964e396ccc0b",
            "placeholder": "​",
            "style": "IPY_MODEL_414a9d76680e4a6bad0959bf11eb22da",
            "value": "Epoch [100/100]: : 100%"
          }
        },
        "1d9e576449124c959db85c5424a8d349": {
          "model_module": "@jupyter-widgets/base",
          "model_module_version": "1.2.0",
          "model_name": "LayoutModel",
          "state": {
            "_model_module": "@jupyter-widgets/base",
            "_model_module_version": "1.2.0",
            "_model_name": "LayoutModel",
            "_view_count": null,
            "_view_module": "@jupyter-widgets/base",
            "_view_module_version": "1.2.0",
            "_view_name": "LayoutView",
            "align_content": null,
            "align_items": null,
            "align_self": null,
            "border": null,
            "bottom": null,
            "display": null,
            "flex": null,
            "flex_flow": null,
            "grid_area": null,
            "grid_auto_columns": null,
            "grid_auto_flow": null,
            "grid_auto_rows": null,
            "grid_column": null,
            "grid_gap": null,
            "grid_row": null,
            "grid_template_areas": null,
            "grid_template_columns": null,
            "grid_template_rows": null,
            "height": null,
            "justify_content": null,
            "justify_items": null,
            "left": null,
            "margin": null,
            "max_height": null,
            "max_width": null,
            "min_height": null,
            "min_width": null,
            "object_fit": null,
            "object_position": null,
            "order": null,
            "overflow": null,
            "overflow_x": null,
            "overflow_y": null,
            "padding": null,
            "right": null,
            "top": null,
            "visibility": null,
            "width": null
          }
        },
        "1e52e2912db2428eb346300aa602f10f": {
          "model_module": "@jupyter-widgets/controls",
          "model_module_version": "1.5.0",
          "model_name": "DescriptionStyleModel",
          "state": {
            "_model_module": "@jupyter-widgets/controls",
            "_model_module_version": "1.5.0",
            "_model_name": "DescriptionStyleModel",
            "_view_count": null,
            "_view_module": "@jupyter-widgets/base",
            "_view_module_version": "1.2.0",
            "_view_name": "StyleView",
            "description_width": ""
          }
        },
        "268a0e9544d94ffe9dadb2a6a7dacb6c": {
          "model_module": "@jupyter-widgets/controls",
          "model_module_version": "1.5.0",
          "model_name": "HBoxModel",
          "state": {
            "_dom_classes": [],
            "_model_module": "@jupyter-widgets/controls",
            "_model_module_version": "1.5.0",
            "_model_name": "HBoxModel",
            "_view_count": null,
            "_view_module": "@jupyter-widgets/controls",
            "_view_module_version": "1.5.0",
            "_view_name": "HBoxView",
            "box_style": "",
            "children": [
              "IPY_MODEL_42dced0bdb0c49bba31567c6fe3abc3a",
              "IPY_MODEL_3d064a76628b4f78b2b7a4843a7713cc",
              "IPY_MODEL_f5c06486d4614110a53f600c8418a6ef"
            ],
            "layout": "IPY_MODEL_6ec3ca53118349e3889256e5efb43223"
          }
        },
        "2cbaa3401a85463f896e42ddd51328e1": {
          "model_module": "@jupyter-widgets/controls",
          "model_module_version": "1.5.0",
          "model_name": "HTMLModel",
          "state": {
            "_dom_classes": [],
            "_model_module": "@jupyter-widgets/controls",
            "_model_module_version": "1.5.0",
            "_model_name": "HTMLModel",
            "_view_count": null,
            "_view_module": "@jupyter-widgets/controls",
            "_view_module_version": "1.5.0",
            "_view_name": "HTMLView",
            "description": "",
            "description_tooltip": null,
            "layout": "IPY_MODEL_e9247b916ab5491a9adccdbe8def0831",
            "placeholder": "​",
            "style": "IPY_MODEL_3d556847df95492fa4bd417bdeac0e88",
            "value": " 100/100 [11:25&lt;00:00,  6.95s/it, loss=0.327]"
          }
        },
        "3308aa4db0be4295b1ce763997d23e96": {
          "model_module": "@jupyter-widgets/base",
          "model_module_version": "1.2.0",
          "model_name": "LayoutModel",
          "state": {
            "_model_module": "@jupyter-widgets/base",
            "_model_module_version": "1.2.0",
            "_model_name": "LayoutModel",
            "_view_count": null,
            "_view_module": "@jupyter-widgets/base",
            "_view_module_version": "1.2.0",
            "_view_name": "LayoutView",
            "align_content": null,
            "align_items": null,
            "align_self": null,
            "border": null,
            "bottom": null,
            "display": null,
            "flex": null,
            "flex_flow": null,
            "grid_area": null,
            "grid_auto_columns": null,
            "grid_auto_flow": null,
            "grid_auto_rows": null,
            "grid_column": null,
            "grid_gap": null,
            "grid_row": null,
            "grid_template_areas": null,
            "grid_template_columns": null,
            "grid_template_rows": null,
            "height": null,
            "justify_content": null,
            "justify_items": null,
            "left": null,
            "margin": null,
            "max_height": null,
            "max_width": null,
            "min_height": null,
            "min_width": null,
            "object_fit": null,
            "object_position": null,
            "order": null,
            "overflow": null,
            "overflow_x": null,
            "overflow_y": null,
            "padding": null,
            "right": null,
            "top": null,
            "visibility": null,
            "width": null
          }
        },
        "3d064a76628b4f78b2b7a4843a7713cc": {
          "model_module": "@jupyter-widgets/controls",
          "model_module_version": "1.5.0",
          "model_name": "FloatProgressModel",
          "state": {
            "_dom_classes": [],
            "_model_module": "@jupyter-widgets/controls",
            "_model_module_version": "1.5.0",
            "_model_name": "FloatProgressModel",
            "_view_count": null,
            "_view_module": "@jupyter-widgets/controls",
            "_view_module_version": "1.5.0",
            "_view_name": "ProgressView",
            "bar_style": "danger",
            "description": "",
            "description_tooltip": null,
            "layout": "IPY_MODEL_f667d9e649794888940bd0fb34db9013",
            "max": 40,
            "min": 0,
            "orientation": "horizontal",
            "style": "IPY_MODEL_02585aee801d4ae3ad151c22201e5f62",
            "value": 0
          }
        },
        "3d556847df95492fa4bd417bdeac0e88": {
          "model_module": "@jupyter-widgets/controls",
          "model_module_version": "1.5.0",
          "model_name": "DescriptionStyleModel",
          "state": {
            "_model_module": "@jupyter-widgets/controls",
            "_model_module_version": "1.5.0",
            "_model_name": "DescriptionStyleModel",
            "_view_count": null,
            "_view_module": "@jupyter-widgets/base",
            "_view_module_version": "1.2.0",
            "_view_name": "StyleView",
            "description_width": ""
          }
        },
        "414a9d76680e4a6bad0959bf11eb22da": {
          "model_module": "@jupyter-widgets/controls",
          "model_module_version": "1.5.0",
          "model_name": "DescriptionStyleModel",
          "state": {
            "_model_module": "@jupyter-widgets/controls",
            "_model_module_version": "1.5.0",
            "_model_name": "DescriptionStyleModel",
            "_view_count": null,
            "_view_module": "@jupyter-widgets/base",
            "_view_module_version": "1.2.0",
            "_view_name": "StyleView",
            "description_width": ""
          }
        },
        "42dced0bdb0c49bba31567c6fe3abc3a": {
          "model_module": "@jupyter-widgets/controls",
          "model_module_version": "1.5.0",
          "model_name": "HTMLModel",
          "state": {
            "_dom_classes": [],
            "_model_module": "@jupyter-widgets/controls",
            "_model_module_version": "1.5.0",
            "_model_name": "HTMLModel",
            "_view_count": null,
            "_view_module": "@jupyter-widgets/controls",
            "_view_module_version": "1.5.0",
            "_view_name": "HTMLView",
            "description": "",
            "description_tooltip": null,
            "layout": "IPY_MODEL_1d9e576449124c959db85c5424a8d349",
            "placeholder": "​",
            "style": "IPY_MODEL_1e52e2912db2428eb346300aa602f10f",
            "value": "  0%"
          }
        },
        "44830fb93b9140008bd1ce0aa9b81c4f": {
          "model_module": "@jupyter-widgets/controls",
          "model_module_version": "1.5.0",
          "model_name": "DescriptionStyleModel",
          "state": {
            "_model_module": "@jupyter-widgets/controls",
            "_model_module_version": "1.5.0",
            "_model_name": "DescriptionStyleModel",
            "_view_count": null,
            "_view_module": "@jupyter-widgets/base",
            "_view_module_version": "1.2.0",
            "_view_name": "StyleView",
            "description_width": ""
          }
        },
        "49b2a20a7854409489126a9a866604df": {
          "model_module": "@jupyter-widgets/base",
          "model_module_version": "1.2.0",
          "model_name": "LayoutModel",
          "state": {
            "_model_module": "@jupyter-widgets/base",
            "_model_module_version": "1.2.0",
            "_model_name": "LayoutModel",
            "_view_count": null,
            "_view_module": "@jupyter-widgets/base",
            "_view_module_version": "1.2.0",
            "_view_name": "LayoutView",
            "align_content": null,
            "align_items": null,
            "align_self": null,
            "border": null,
            "bottom": null,
            "display": null,
            "flex": null,
            "flex_flow": null,
            "grid_area": null,
            "grid_auto_columns": null,
            "grid_auto_flow": null,
            "grid_auto_rows": null,
            "grid_column": null,
            "grid_gap": null,
            "grid_row": null,
            "grid_template_areas": null,
            "grid_template_columns": null,
            "grid_template_rows": null,
            "height": null,
            "justify_content": null,
            "justify_items": null,
            "left": null,
            "margin": null,
            "max_height": null,
            "max_width": null,
            "min_height": null,
            "min_width": null,
            "object_fit": null,
            "object_position": null,
            "order": null,
            "overflow": null,
            "overflow_x": null,
            "overflow_y": null,
            "padding": null,
            "right": null,
            "top": null,
            "visibility": null,
            "width": null
          }
        },
        "60a6ed2132004ac3bdbfc269334bd77e": {
          "model_module": "@jupyter-widgets/base",
          "model_module_version": "1.2.0",
          "model_name": "LayoutModel",
          "state": {
            "_model_module": "@jupyter-widgets/base",
            "_model_module_version": "1.2.0",
            "_model_name": "LayoutModel",
            "_view_count": null,
            "_view_module": "@jupyter-widgets/base",
            "_view_module_version": "1.2.0",
            "_view_name": "LayoutView",
            "align_content": null,
            "align_items": null,
            "align_self": null,
            "border": null,
            "bottom": null,
            "display": null,
            "flex": null,
            "flex_flow": null,
            "grid_area": null,
            "grid_auto_columns": null,
            "grid_auto_flow": null,
            "grid_auto_rows": null,
            "grid_column": null,
            "grid_gap": null,
            "grid_row": null,
            "grid_template_areas": null,
            "grid_template_columns": null,
            "grid_template_rows": null,
            "height": null,
            "justify_content": null,
            "justify_items": null,
            "left": null,
            "margin": null,
            "max_height": null,
            "max_width": null,
            "min_height": null,
            "min_width": null,
            "object_fit": null,
            "object_position": null,
            "order": null,
            "overflow": null,
            "overflow_x": null,
            "overflow_y": null,
            "padding": null,
            "right": null,
            "top": null,
            "visibility": null,
            "width": null
          }
        },
        "6ec3ca53118349e3889256e5efb43223": {
          "model_module": "@jupyter-widgets/base",
          "model_module_version": "1.2.0",
          "model_name": "LayoutModel",
          "state": {
            "_model_module": "@jupyter-widgets/base",
            "_model_module_version": "1.2.0",
            "_model_name": "LayoutModel",
            "_view_count": null,
            "_view_module": "@jupyter-widgets/base",
            "_view_module_version": "1.2.0",
            "_view_name": "LayoutView",
            "align_content": null,
            "align_items": null,
            "align_self": null,
            "border": null,
            "bottom": null,
            "display": null,
            "flex": null,
            "flex_flow": null,
            "grid_area": null,
            "grid_auto_columns": null,
            "grid_auto_flow": null,
            "grid_auto_rows": null,
            "grid_column": null,
            "grid_gap": null,
            "grid_row": null,
            "grid_template_areas": null,
            "grid_template_columns": null,
            "grid_template_rows": null,
            "height": null,
            "justify_content": null,
            "justify_items": null,
            "left": null,
            "margin": null,
            "max_height": null,
            "max_width": null,
            "min_height": null,
            "min_width": null,
            "object_fit": null,
            "object_position": null,
            "order": null,
            "overflow": null,
            "overflow_x": null,
            "overflow_y": null,
            "padding": null,
            "right": null,
            "top": null,
            "visibility": null,
            "width": null
          }
        },
        "74702207902e4768b23070347c71d595": {
          "model_module": "@jupyter-widgets/controls",
          "model_module_version": "1.5.0",
          "model_name": "HBoxModel",
          "state": {
            "_dom_classes": [],
            "_model_module": "@jupyter-widgets/controls",
            "_model_module_version": "1.5.0",
            "_model_name": "HBoxModel",
            "_view_count": null,
            "_view_module": "@jupyter-widgets/controls",
            "_view_module_version": "1.5.0",
            "_view_name": "HBoxView",
            "box_style": "",
            "children": [
              "IPY_MODEL_1875372ece174407909f92f9a386c1b0",
              "IPY_MODEL_b9ca3c27bf994484ab0eb1c334accf2f",
              "IPY_MODEL_2cbaa3401a85463f896e42ddd51328e1"
            ],
            "layout": "IPY_MODEL_f441aed855ec4a748a056ffae1cb87db"
          }
        },
        "7a743ef4663c466685c2964e396ccc0b": {
          "model_module": "@jupyter-widgets/base",
          "model_module_version": "1.2.0",
          "model_name": "LayoutModel",
          "state": {
            "_model_module": "@jupyter-widgets/base",
            "_model_module_version": "1.2.0",
            "_model_name": "LayoutModel",
            "_view_count": null,
            "_view_module": "@jupyter-widgets/base",
            "_view_module_version": "1.2.0",
            "_view_name": "LayoutView",
            "align_content": null,
            "align_items": null,
            "align_self": null,
            "border": null,
            "bottom": null,
            "display": null,
            "flex": null,
            "flex_flow": null,
            "grid_area": null,
            "grid_auto_columns": null,
            "grid_auto_flow": null,
            "grid_auto_rows": null,
            "grid_column": null,
            "grid_gap": null,
            "grid_row": null,
            "grid_template_areas": null,
            "grid_template_columns": null,
            "grid_template_rows": null,
            "height": null,
            "justify_content": null,
            "justify_items": null,
            "left": null,
            "margin": null,
            "max_height": null,
            "max_width": null,
            "min_height": null,
            "min_width": null,
            "object_fit": null,
            "object_position": null,
            "order": null,
            "overflow": null,
            "overflow_x": null,
            "overflow_y": null,
            "padding": null,
            "right": null,
            "top": null,
            "visibility": null,
            "width": null
          }
        },
        "7d696ea990d34684946b125877127e02": {
          "model_module": "@jupyter-widgets/controls",
          "model_module_version": "1.5.0",
          "model_name": "ProgressStyleModel",
          "state": {
            "_model_module": "@jupyter-widgets/controls",
            "_model_module_version": "1.5.0",
            "_model_name": "ProgressStyleModel",
            "_view_count": null,
            "_view_module": "@jupyter-widgets/base",
            "_view_module_version": "1.2.0",
            "_view_name": "StyleView",
            "bar_color": null,
            "description_width": ""
          }
        },
        "8907fb54372345eda1ccbb859b14e2cb": {
          "model_module": "@jupyter-widgets/controls",
          "model_module_version": "1.5.0",
          "model_name": "ProgressStyleModel",
          "state": {
            "_model_module": "@jupyter-widgets/controls",
            "_model_module_version": "1.5.0",
            "_model_name": "ProgressStyleModel",
            "_view_count": null,
            "_view_module": "@jupyter-widgets/base",
            "_view_module_version": "1.2.0",
            "_view_name": "StyleView",
            "bar_color": null,
            "description_width": ""
          }
        },
        "891dccbd43eb49e1a17136903c5fd247": {
          "model_module": "@jupyter-widgets/base",
          "model_module_version": "1.2.0",
          "model_name": "LayoutModel",
          "state": {
            "_model_module": "@jupyter-widgets/base",
            "_model_module_version": "1.2.0",
            "_model_name": "LayoutModel",
            "_view_count": null,
            "_view_module": "@jupyter-widgets/base",
            "_view_module_version": "1.2.0",
            "_view_name": "LayoutView",
            "align_content": null,
            "align_items": null,
            "align_self": null,
            "border": null,
            "bottom": null,
            "display": null,
            "flex": null,
            "flex_flow": null,
            "grid_area": null,
            "grid_auto_columns": null,
            "grid_auto_flow": null,
            "grid_auto_rows": null,
            "grid_column": null,
            "grid_gap": null,
            "grid_row": null,
            "grid_template_areas": null,
            "grid_template_columns": null,
            "grid_template_rows": null,
            "height": null,
            "justify_content": null,
            "justify_items": null,
            "left": null,
            "margin": null,
            "max_height": null,
            "max_width": null,
            "min_height": null,
            "min_width": null,
            "object_fit": null,
            "object_position": null,
            "order": null,
            "overflow": null,
            "overflow_x": null,
            "overflow_y": null,
            "padding": null,
            "right": null,
            "top": null,
            "visibility": null,
            "width": null
          }
        },
        "9891fc4cab7d40e78dc4951709d1a8bc": {
          "model_module": "@jupyter-widgets/controls",
          "model_module_version": "1.5.0",
          "model_name": "DescriptionStyleModel",
          "state": {
            "_model_module": "@jupyter-widgets/controls",
            "_model_module_version": "1.5.0",
            "_model_name": "DescriptionStyleModel",
            "_view_count": null,
            "_view_module": "@jupyter-widgets/base",
            "_view_module_version": "1.2.0",
            "_view_name": "StyleView",
            "description_width": ""
          }
        },
        "a03775ea59574492867325f65e7731f8": {
          "model_module": "@jupyter-widgets/controls",
          "model_module_version": "1.5.0",
          "model_name": "FloatProgressModel",
          "state": {
            "_dom_classes": [],
            "_model_module": "@jupyter-widgets/controls",
            "_model_module_version": "1.5.0",
            "_model_name": "FloatProgressModel",
            "_view_count": null,
            "_view_module": "@jupyter-widgets/controls",
            "_view_module_version": "1.5.0",
            "_view_name": "ProgressView",
            "bar_style": "danger",
            "description": "",
            "description_tooltip": null,
            "layout": "IPY_MODEL_49b2a20a7854409489126a9a866604df",
            "max": 235,
            "min": 0,
            "orientation": "horizontal",
            "style": "IPY_MODEL_8907fb54372345eda1ccbb859b14e2cb",
            "value": 0
          }
        },
        "b1114fcc3f724d04a518e3f21e37b11c": {
          "model_module": "@jupyter-widgets/controls",
          "model_module_version": "1.5.0",
          "model_name": "HTMLModel",
          "state": {
            "_dom_classes": [],
            "_model_module": "@jupyter-widgets/controls",
            "_model_module_version": "1.5.0",
            "_model_name": "HTMLModel",
            "_view_count": null,
            "_view_module": "@jupyter-widgets/controls",
            "_view_module_version": "1.5.0",
            "_view_name": "HTMLView",
            "description": "",
            "description_tooltip": null,
            "layout": "IPY_MODEL_3308aa4db0be4295b1ce763997d23e96",
            "placeholder": "​",
            "style": "IPY_MODEL_9891fc4cab7d40e78dc4951709d1a8bc",
            "value": " 0/235 [00:03&lt;?, ?it/s]"
          }
        },
        "b9ca3c27bf994484ab0eb1c334accf2f": {
          "model_module": "@jupyter-widgets/controls",
          "model_module_version": "1.5.0",
          "model_name": "FloatProgressModel",
          "state": {
            "_dom_classes": [],
            "_model_module": "@jupyter-widgets/controls",
            "_model_module_version": "1.5.0",
            "_model_name": "FloatProgressModel",
            "_view_count": null,
            "_view_module": "@jupyter-widgets/controls",
            "_view_module_version": "1.5.0",
            "_view_name": "ProgressView",
            "bar_style": "success",
            "description": "",
            "description_tooltip": null,
            "layout": "IPY_MODEL_891dccbd43eb49e1a17136903c5fd247",
            "max": 100,
            "min": 0,
            "orientation": "horizontal",
            "style": "IPY_MODEL_7d696ea990d34684946b125877127e02",
            "value": 100
          }
        },
        "c5eb307b2bcc4b3ab90170af196f94ce": {
          "model_module": "@jupyter-widgets/controls",
          "model_module_version": "1.5.0",
          "model_name": "DescriptionStyleModel",
          "state": {
            "_model_module": "@jupyter-widgets/controls",
            "_model_module_version": "1.5.0",
            "_model_name": "DescriptionStyleModel",
            "_view_count": null,
            "_view_module": "@jupyter-widgets/base",
            "_view_module_version": "1.2.0",
            "_view_name": "StyleView",
            "description_width": ""
          }
        },
        "e1d734432b3e4a79928270d337c4a3e7": {
          "model_module": "@jupyter-widgets/controls",
          "model_module_version": "1.5.0",
          "model_name": "HTMLModel",
          "state": {
            "_dom_classes": [],
            "_model_module": "@jupyter-widgets/controls",
            "_model_module_version": "1.5.0",
            "_model_name": "HTMLModel",
            "_view_count": null,
            "_view_module": "@jupyter-widgets/controls",
            "_view_module_version": "1.5.0",
            "_view_name": "HTMLView",
            "description": "",
            "description_tooltip": null,
            "layout": "IPY_MODEL_60a6ed2132004ac3bdbfc269334bd77e",
            "placeholder": "​",
            "style": "IPY_MODEL_c5eb307b2bcc4b3ab90170af196f94ce",
            "value": "  0%"
          }
        },
        "e9247b916ab5491a9adccdbe8def0831": {
          "model_module": "@jupyter-widgets/base",
          "model_module_version": "1.2.0",
          "model_name": "LayoutModel",
          "state": {
            "_model_module": "@jupyter-widgets/base",
            "_model_module_version": "1.2.0",
            "_model_name": "LayoutModel",
            "_view_count": null,
            "_view_module": "@jupyter-widgets/base",
            "_view_module_version": "1.2.0",
            "_view_name": "LayoutView",
            "align_content": null,
            "align_items": null,
            "align_self": null,
            "border": null,
            "bottom": null,
            "display": null,
            "flex": null,
            "flex_flow": null,
            "grid_area": null,
            "grid_auto_columns": null,
            "grid_auto_flow": null,
            "grid_auto_rows": null,
            "grid_column": null,
            "grid_gap": null,
            "grid_row": null,
            "grid_template_areas": null,
            "grid_template_columns": null,
            "grid_template_rows": null,
            "height": null,
            "justify_content": null,
            "justify_items": null,
            "left": null,
            "margin": null,
            "max_height": null,
            "max_width": null,
            "min_height": null,
            "min_width": null,
            "object_fit": null,
            "object_position": null,
            "order": null,
            "overflow": null,
            "overflow_x": null,
            "overflow_y": null,
            "padding": null,
            "right": null,
            "top": null,
            "visibility": null,
            "width": null
          }
        },
        "f441aed855ec4a748a056ffae1cb87db": {
          "model_module": "@jupyter-widgets/base",
          "model_module_version": "1.2.0",
          "model_name": "LayoutModel",
          "state": {
            "_model_module": "@jupyter-widgets/base",
            "_model_module_version": "1.2.0",
            "_model_name": "LayoutModel",
            "_view_count": null,
            "_view_module": "@jupyter-widgets/base",
            "_view_module_version": "1.2.0",
            "_view_name": "LayoutView",
            "align_content": null,
            "align_items": null,
            "align_self": null,
            "border": null,
            "bottom": null,
            "display": null,
            "flex": null,
            "flex_flow": null,
            "grid_area": null,
            "grid_auto_columns": null,
            "grid_auto_flow": null,
            "grid_auto_rows": null,
            "grid_column": null,
            "grid_gap": null,
            "grid_row": null,
            "grid_template_areas": null,
            "grid_template_columns": null,
            "grid_template_rows": null,
            "height": null,
            "justify_content": null,
            "justify_items": null,
            "left": null,
            "margin": null,
            "max_height": null,
            "max_width": null,
            "min_height": null,
            "min_width": null,
            "object_fit": null,
            "object_position": null,
            "order": null,
            "overflow": null,
            "overflow_x": null,
            "overflow_y": null,
            "padding": null,
            "right": null,
            "top": null,
            "visibility": null,
            "width": null
          }
        },
        "f5c06486d4614110a53f600c8418a6ef": {
          "model_module": "@jupyter-widgets/controls",
          "model_module_version": "1.5.0",
          "model_name": "HTMLModel",
          "state": {
            "_dom_classes": [],
            "_model_module": "@jupyter-widgets/controls",
            "_model_module_version": "1.5.0",
            "_model_name": "HTMLModel",
            "_view_count": null,
            "_view_module": "@jupyter-widgets/controls",
            "_view_module_version": "1.5.0",
            "_view_name": "HTMLView",
            "description": "",
            "description_tooltip": null,
            "layout": "IPY_MODEL_029b5eb722f940ca9ff1b77897ec463f",
            "placeholder": "​",
            "style": "IPY_MODEL_44830fb93b9140008bd1ce0aa9b81c4f",
            "value": " 0/40 [00:03&lt;?, ?it/s]"
          }
        },
        "f667d9e649794888940bd0fb34db9013": {
          "model_module": "@jupyter-widgets/base",
          "model_module_version": "1.2.0",
          "model_name": "LayoutModel",
          "state": {
            "_model_module": "@jupyter-widgets/base",
            "_model_module_version": "1.2.0",
            "_model_name": "LayoutModel",
            "_view_count": null,
            "_view_module": "@jupyter-widgets/base",
            "_view_module_version": "1.2.0",
            "_view_name": "LayoutView",
            "align_content": null,
            "align_items": null,
            "align_self": null,
            "border": null,
            "bottom": null,
            "display": null,
            "flex": null,
            "flex_flow": null,
            "grid_area": null,
            "grid_auto_columns": null,
            "grid_auto_flow": null,
            "grid_auto_rows": null,
            "grid_column": null,
            "grid_gap": null,
            "grid_row": null,
            "grid_template_areas": null,
            "grid_template_columns": null,
            "grid_template_rows": null,
            "height": null,
            "justify_content": null,
            "justify_items": null,
            "left": null,
            "margin": null,
            "max_height": null,
            "max_width": null,
            "min_height": null,
            "min_width": null,
            "object_fit": null,
            "object_position": null,
            "order": null,
            "overflow": null,
            "overflow_x": null,
            "overflow_y": null,
            "padding": null,
            "right": null,
            "top": null,
            "visibility": null,
            "width": null
          }
        },
        "fd4d1afdf37e47439df04c595f308a5b": {
          "model_module": "@jupyter-widgets/controls",
          "model_module_version": "1.5.0",
          "model_name": "HBoxModel",
          "state": {
            "_dom_classes": [],
            "_model_module": "@jupyter-widgets/controls",
            "_model_module_version": "1.5.0",
            "_model_name": "HBoxModel",
            "_view_count": null,
            "_view_module": "@jupyter-widgets/controls",
            "_view_module_version": "1.5.0",
            "_view_name": "HBoxView",
            "box_style": "",
            "children": [
              "IPY_MODEL_e1d734432b3e4a79928270d337c4a3e7",
              "IPY_MODEL_a03775ea59574492867325f65e7731f8",
              "IPY_MODEL_b1114fcc3f724d04a518e3f21e37b11c"
            ],
            "layout": "IPY_MODEL_10b4808d5b7b40289fc799c40b3402bc"
          }
        }
      }
    }
  },
  "nbformat": 4,
  "nbformat_minor": 5
}
